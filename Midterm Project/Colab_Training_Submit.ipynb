{
  "nbformat": 4,
  "nbformat_minor": 0,
  "metadata": {
    "colab": {
      "name": "Colab-Training-Submit.ipynb",
      "provenance": [],
      "collapsed_sections": [],
      "machine_shape": "hm"
    },
    "kernelspec": {
      "name": "python3",
      "display_name": "Python 3"
    },
    "accelerator": "TPU"
  },
  "cells": [
    {
      "cell_type": "markdown",
      "metadata": {
        "id": "esNWMzKrVuWc",
        "colab_type": "text"
      },
      "source": [
        "**Step 1:** Mount your Google Drive by clicking on \"Mount Drive\" in the Files section (panel to the left of this text.)\n",
        "\n",
        "**Step 2:** Go to Runtime -> Change runtime type and select TPU.\n",
        "\n",
        "**Step 3:** Create a folder in your Google Drive, and rename it to \"vMalConv\"\n",
        "\n",
        "**Step 4:** Download the pre-processed training and test datasets."
      ]
    },
    {
      "cell_type": "code",
      "metadata": {
        "id": "hkJ5QJPmc6uS",
        "colab_type": "code",
        "colab": {
          "base_uri": "https://localhost:8080/",
          "height": 34
        },
        "outputId": "6a0c4c0b-2365-45ab-f1f6-28c755841a34"
      },
      "source": [
        "from google.colab import drive\n",
        "drive.mount('/content/drive')"
      ],
      "execution_count": 33,
      "outputs": [
        {
          "output_type": "stream",
          "text": [
            "Drive already mounted at /content/drive; to attempt to forcibly remount, call drive.mount(\"/content/drive\", force_remount=True).\n"
          ],
          "name": "stdout"
        }
      ]
    },
    {
      "cell_type": "code",
      "metadata": {
        "id": "eUq_FZwmZegw",
        "colab_type": "code",
        "colab": {
          "base_uri": "https://localhost:8080/",
          "height": 941
        },
        "outputId": "c72937ac-9d63-4045-8f17-a0d06235d6c1"
      },
      "source": [
        "!wget https://sagemaker-malconv.s3.amazonaws.com/sagemaker/X_train.dat\n",
        "!wget https://sagemaker-malconv.s3.amazonaws.com/sagemaker/X_test.dat\n",
        "!wget https://sagemaker-malconv.s3.amazonaws.com/sagemaker/y_train.dat\n",
        "!wget https://sagemaker-malconv.s3.amazonaws.com/sagemaker/y_test.dat\n",
        "!wget https://sagemaker-malconv.s3.amazonaws.com/sagemaker/metadata.csv"
      ],
      "execution_count": 34,
      "outputs": [
        {
          "output_type": "stream",
          "text": [
            "--2020-05-02 01:19:11--  https://sagemaker-malconv.s3.amazonaws.com/sagemaker/X_train.dat\n",
            "Resolving sagemaker-malconv.s3.amazonaws.com (sagemaker-malconv.s3.amazonaws.com)... 52.217.43.12\n",
            "Connecting to sagemaker-malconv.s3.amazonaws.com (sagemaker-malconv.s3.amazonaws.com)|52.217.43.12|:443... connected.\n",
            "HTTP request sent, awaiting response... 200 OK\n",
            "Length: 8571600000 (8.0G) [binary/octet-stream]\n",
            "Saving to: ‘X_train.dat.1’\n",
            "\n",
            "X_train.dat.1       100%[===================>]   7.98G  58.2MB/s    in 2m 1s   \n",
            "\n",
            "2020-05-02 01:21:12 (67.5 MB/s) - ‘X_train.dat.1’ saved [8571600000/8571600000]\n",
            "\n",
            "--2020-05-02 01:21:15--  https://sagemaker-malconv.s3.amazonaws.com/sagemaker/X_test.dat\n",
            "Resolving sagemaker-malconv.s3.amazonaws.com (sagemaker-malconv.s3.amazonaws.com)... 52.216.224.200\n",
            "Connecting to sagemaker-malconv.s3.amazonaws.com (sagemaker-malconv.s3.amazonaws.com)|52.216.224.200|:443... connected.\n",
            "HTTP request sent, awaiting response... 200 OK\n",
            "Length: 1904800000 (1.8G) [binary/octet-stream]\n",
            "Saving to: ‘X_test.dat.1’\n",
            "\n",
            "X_test.dat.1        100%[===================>]   1.77G  62.4MB/s    in 28s     \n",
            "\n",
            "2020-05-02 01:21:44 (64.2 MB/s) - ‘X_test.dat.1’ saved [1904800000/1904800000]\n",
            "\n",
            "--2020-05-02 01:21:44--  https://sagemaker-malconv.s3.amazonaws.com/sagemaker/y_train.dat\n",
            "Resolving sagemaker-malconv.s3.amazonaws.com (sagemaker-malconv.s3.amazonaws.com)... 52.216.240.4\n",
            "Connecting to sagemaker-malconv.s3.amazonaws.com (sagemaker-malconv.s3.amazonaws.com)|52.216.240.4|:443... connected.\n",
            "HTTP request sent, awaiting response... 200 OK\n",
            "Length: 3600000 (3.4M) [binary/octet-stream]\n",
            "Saving to: ‘y_train.dat.1’\n",
            "\n",
            "y_train.dat.1       100%[===================>]   3.43M  16.0MB/s    in 0.2s    \n",
            "\n",
            "2020-05-02 01:21:45 (16.0 MB/s) - ‘y_train.dat.1’ saved [3600000/3600000]\n",
            "\n",
            "--2020-05-02 01:21:51--  https://sagemaker-malconv.s3.amazonaws.com/sagemaker/y_test.dat\n",
            "Resolving sagemaker-malconv.s3.amazonaws.com (sagemaker-malconv.s3.amazonaws.com)... 52.216.99.147\n",
            "Connecting to sagemaker-malconv.s3.amazonaws.com (sagemaker-malconv.s3.amazonaws.com)|52.216.99.147|:443... connected.\n",
            "HTTP request sent, awaiting response... 200 OK\n",
            "Length: 800000 (781K) [binary/octet-stream]\n",
            "Saving to: ‘y_test.dat.1’\n",
            "\n",
            "y_test.dat.1        100%[===================>] 781.25K  --.-KB/s    in 0.1s    \n",
            "\n",
            "2020-05-02 01:21:51 (5.27 MB/s) - ‘y_test.dat.1’ saved [800000/800000]\n",
            "\n",
            "--2020-05-02 01:21:52--  https://sagemaker-malconv.s3.amazonaws.com/sagemaker/metadata.csv\n",
            "Resolving sagemaker-malconv.s3.amazonaws.com (sagemaker-malconv.s3.amazonaws.com)... 52.216.137.156\n",
            "Connecting to sagemaker-malconv.s3.amazonaws.com (sagemaker-malconv.s3.amazonaws.com)|52.216.137.156|:443... connected.\n",
            "HTTP request sent, awaiting response... 200 OK\n",
            "Length: 96888920 (92M) [binary/octet-stream]\n",
            "Saving to: ‘metadata.csv.1’\n",
            "\n",
            "metadata.csv.1      100%[===================>]  92.40M  52.9MB/s    in 1.7s    \n",
            "\n",
            "2020-05-02 01:21:54 (52.9 MB/s) - ‘metadata.csv.1’ saved [96888920/96888920]\n",
            "\n"
          ],
          "name": "stdout"
        }
      ]
    },
    {
      "cell_type": "markdown",
      "metadata": {
        "id": "9V958PbDW3H0",
        "colab_type": "text"
      },
      "source": [
        "**Step 5:** Copy the downloaded files to vMalConv"
      ]
    },
    {
      "cell_type": "code",
      "metadata": {
        "id": "llip77F3amma",
        "colab_type": "code",
        "colab": {}
      },
      "source": [
        "!cp /content/X_train.dat /content/drive/My\\ Drive/vMalConv/X_train.dat\n",
        "!cp /content/X_test.dat /content/drive/My\\ Drive/vMalConv/X_test.dat\n",
        "!cp /content/y_train.dat /content/drive/My\\ Drive/vMalConv/y_train.dat\n",
        "!cp /content/y_test.dat /content/drive/My\\ Drive/vMalConv/y_test.dat\n",
        "!cp /content/metadata.csv /content/drive/My\\ Drive/vMalConv/metadata.csv"
      ],
      "execution_count": 0,
      "outputs": []
    },
    {
      "cell_type": "markdown",
      "metadata": {
        "id": "QbRilyqTXnrE",
        "colab_type": "text"
      },
      "source": [
        "**Step 6:** Download and install Ember:"
      ]
    },
    {
      "cell_type": "code",
      "metadata": {
        "id": "76bc7PEmlwKB",
        "colab_type": "code",
        "colab": {
          "base_uri": "https://localhost:8080/",
          "height": 1000
        },
        "outputId": "de4851b5-4c0e-40da-99a1-f5e51e516033"
      },
      "source": [
        "!wget https://github.com/endgameinc/ember/archive/master.zip\n",
        "!unzip master.zip\n",
        "!rm master.zip\n",
        "!cp -r ember-master/* .\n",
        "!rm -r ember-master\n",
        "!pip install -r requirements.txt\n",
        "!python setup.py install"
      ],
      "execution_count": 36,
      "outputs": [
        {
          "output_type": "stream",
          "text": [
            "--2020-05-02 01:25:29--  https://github.com/endgameinc/ember/archive/master.zip\n",
            "Resolving github.com (github.com)... 140.82.113.4\n",
            "Connecting to github.com (github.com)|140.82.113.4|:443... connected.\n",
            "HTTP request sent, awaiting response... 302 Found\n",
            "Location: https://codeload.github.com/endgameinc/ember/zip/master [following]\n",
            "--2020-05-02 01:25:29--  https://codeload.github.com/endgameinc/ember/zip/master\n",
            "Resolving codeload.github.com (codeload.github.com)... 140.82.113.9\n",
            "Connecting to codeload.github.com (codeload.github.com)|140.82.113.9|:443... connected.\n",
            "HTTP request sent, awaiting response... 200 OK\n",
            "Length: unspecified [application/zip]\n",
            "Saving to: ‘master.zip’\n",
            "\n",
            "master.zip              [   <=>              ]  11.22M  13.0MB/s    in 0.9s    \n",
            "\n",
            "2020-05-02 01:25:30 (13.0 MB/s) - ‘master.zip’ saved [11769324]\n",
            "\n",
            "Archive:  master.zip\n",
            "f9a018632ba108b4e25c33d6c3e2e7a7c4487f58\n",
            "   creating: ember-master/\n",
            "  inflating: ember-master/LICENSE.txt  \n",
            "  inflating: ember-master/README.md  \n",
            "   creating: ember-master/ember/\n",
            "  inflating: ember-master/ember/__init__.py  \n",
            "  inflating: ember-master/ember/features.py  \n",
            "   creating: ember-master/licenses/\n",
            "  inflating: ember-master/licenses/AGPL-LICENSE-3.0.txt  \n",
            "  inflating: ember-master/licenses/MIT-LICENSE.txt  \n",
            "   creating: ember-master/malconv/\n",
            "  inflating: ember-master/malconv/README.md  \n",
            "  inflating: ember-master/malconv/malconv.h5  \n",
            "  inflating: ember-master/malconv/malconv.py  \n",
            "  inflating: ember-master/malconv/multi_gpu.py  \n",
            "  inflating: ember-master/requirements.txt  \n",
            "  inflating: ember-master/requirements_conda.txt  \n",
            "  inflating: ember-master/requirements_notebook.txt  \n",
            "   creating: ember-master/resources/\n",
            "  inflating: ember-master/resources/ember-notebook.ipynb  \n",
            "  inflating: ember-master/resources/ember2018-notebook.ipynb  \n",
            "  inflating: ember-master/resources/logo.png  \n",
            "   creating: ember-master/scripts/\n",
            "  inflating: ember-master/scripts/classify_binaries.py  \n",
            "  inflating: ember-master/scripts/train_ember.py  \n",
            "  inflating: ember-master/setup.py   \n",
            "Requirement already satisfied: lief>=0.9.0 in /usr/local/lib/python3.6/dist-packages (from -r requirements.txt (line 1)) (0.10.1)\n",
            "Requirement already satisfied: tqdm>=4.31.0 in /usr/local/lib/python3.6/dist-packages (from -r requirements.txt (line 2)) (4.38.0)\n",
            "Requirement already satisfied: numpy>=1.16.3 in /usr/local/lib/python3.6/dist-packages (from -r requirements.txt (line 3)) (1.18.3)\n",
            "Requirement already satisfied: pandas>=0.24.2 in /usr/local/lib/python3.6/dist-packages (from -r requirements.txt (line 4)) (1.0.3)\n",
            "Requirement already satisfied: lightgbm>=2.2.3 in /usr/local/lib/python3.6/dist-packages (from -r requirements.txt (line 5)) (2.2.3)\n",
            "Requirement already satisfied: scikit-learn>=0.20.3 in /usr/local/lib/python3.6/dist-packages (from -r requirements.txt (line 6)) (0.22.2.post1)\n",
            "Requirement already satisfied: pytz>=2017.2 in /usr/local/lib/python3.6/dist-packages (from pandas>=0.24.2->-r requirements.txt (line 4)) (2018.9)\n",
            "Requirement already satisfied: python-dateutil>=2.6.1 in /usr/local/lib/python3.6/dist-packages (from pandas>=0.24.2->-r requirements.txt (line 4)) (2.8.1)\n",
            "Requirement already satisfied: scipy in /usr/local/lib/python3.6/dist-packages (from lightgbm>=2.2.3->-r requirements.txt (line 5)) (1.4.1)\n",
            "Requirement already satisfied: joblib>=0.11 in /usr/local/lib/python3.6/dist-packages (from scikit-learn>=0.20.3->-r requirements.txt (line 6)) (0.14.1)\n",
            "Requirement already satisfied: six>=1.5 in /usr/local/lib/python3.6/dist-packages (from python-dateutil>=2.6.1->pandas>=0.24.2->-r requirements.txt (line 4)) (1.12.0)\n",
            "running install\n",
            "running bdist_egg\n",
            "running egg_info\n",
            "writing ember.egg-info/PKG-INFO\n",
            "writing dependency_links to ember.egg-info/dependency_links.txt\n",
            "writing requirements to ember.egg-info/requires.txt\n",
            "writing top-level names to ember.egg-info/top_level.txt\n",
            "reading manifest file 'ember.egg-info/SOURCES.txt'\n",
            "writing manifest file 'ember.egg-info/SOURCES.txt'\n",
            "installing library code to build/bdist.linux-x86_64/egg\n",
            "running install_lib\n",
            "running build_py\n",
            "copying ember/features.py -> build/lib/ember\n",
            "copying ember/__init__.py -> build/lib/ember\n",
            "creating build/bdist.linux-x86_64/egg\n",
            "creating build/bdist.linux-x86_64/egg/ember\n",
            "copying build/lib/ember/features.py -> build/bdist.linux-x86_64/egg/ember\n",
            "copying build/lib/ember/__init__.py -> build/bdist.linux-x86_64/egg/ember\n",
            "byte-compiling build/bdist.linux-x86_64/egg/ember/features.py to features.cpython-36.pyc\n",
            "byte-compiling build/bdist.linux-x86_64/egg/ember/__init__.py to __init__.cpython-36.pyc\n",
            "creating build/bdist.linux-x86_64/egg/EGG-INFO\n",
            "copying ember.egg-info/PKG-INFO -> build/bdist.linux-x86_64/egg/EGG-INFO\n",
            "copying ember.egg-info/SOURCES.txt -> build/bdist.linux-x86_64/egg/EGG-INFO\n",
            "copying ember.egg-info/dependency_links.txt -> build/bdist.linux-x86_64/egg/EGG-INFO\n",
            "copying ember.egg-info/requires.txt -> build/bdist.linux-x86_64/egg/EGG-INFO\n",
            "copying ember.egg-info/top_level.txt -> build/bdist.linux-x86_64/egg/EGG-INFO\n",
            "zip_safe flag not set; analyzing archive contents...\n",
            "creating 'dist/ember-0.1.0-py3.6.egg' and adding 'build/bdist.linux-x86_64/egg' to it\n",
            "removing 'build/bdist.linux-x86_64/egg' (and everything under it)\n",
            "Processing ember-0.1.0-py3.6.egg\n",
            "Removing /usr/local/lib/python3.6/dist-packages/ember-0.1.0-py3.6.egg\n",
            "Copying ember-0.1.0-py3.6.egg to /usr/local/lib/python3.6/dist-packages\n",
            "ember 0.1.0 is already the active version in easy-install.pth\n",
            "\n",
            "Installed /usr/local/lib/python3.6/dist-packages/ember-0.1.0-py3.6.egg\n",
            "Processing dependencies for ember==0.1.0\n",
            "Searching for scikit-learn==0.22.2.post1\n",
            "Best match: scikit-learn 0.22.2.post1\n",
            "Adding scikit-learn 0.22.2.post1 to easy-install.pth file\n",
            "\n",
            "Using /usr/local/lib/python3.6/dist-packages\n",
            "Searching for lightgbm==2.2.3\n",
            "Best match: lightgbm 2.2.3\n",
            "Adding lightgbm 2.2.3 to easy-install.pth file\n",
            "\n",
            "Using /usr/local/lib/python3.6/dist-packages\n",
            "Searching for pandas==1.0.3\n",
            "Best match: pandas 1.0.3\n",
            "Adding pandas 1.0.3 to easy-install.pth file\n",
            "\n",
            "Using /usr/local/lib/python3.6/dist-packages\n",
            "Searching for numpy==1.18.3\n",
            "Best match: numpy 1.18.3\n",
            "Adding numpy 1.18.3 to easy-install.pth file\n",
            "Installing f2py script to /usr/local/bin\n",
            "Installing f2py3 script to /usr/local/bin\n",
            "Installing f2py3.6 script to /usr/local/bin\n",
            "\n",
            "Using /usr/local/lib/python3.6/dist-packages\n",
            "Searching for tqdm==4.38.0\n",
            "Best match: tqdm 4.38.0\n",
            "Adding tqdm 4.38.0 to easy-install.pth file\n",
            "Installing tqdm script to /usr/local/bin\n",
            "\n",
            "Using /usr/local/lib/python3.6/dist-packages\n",
            "Searching for lief==0.10.1\n",
            "Best match: lief 0.10.1\n",
            "Adding lief 0.10.1 to easy-install.pth file\n",
            "\n",
            "Using /usr/local/lib/python3.6/dist-packages\n",
            "Searching for scipy==1.4.1\n",
            "Best match: scipy 1.4.1\n",
            "Adding scipy 1.4.1 to easy-install.pth file\n",
            "\n",
            "Using /usr/local/lib/python3.6/dist-packages\n",
            "Searching for joblib==0.14.1\n",
            "Best match: joblib 0.14.1\n",
            "Adding joblib 0.14.1 to easy-install.pth file\n",
            "\n",
            "Using /usr/local/lib/python3.6/dist-packages\n",
            "Searching for pytz==2018.9\n",
            "Best match: pytz 2018.9\n",
            "Adding pytz 2018.9 to easy-install.pth file\n",
            "\n",
            "Using /usr/local/lib/python3.6/dist-packages\n",
            "Searching for python-dateutil==2.8.1\n",
            "Best match: python-dateutil 2.8.1\n",
            "Adding python-dateutil 2.8.1 to easy-install.pth file\n",
            "\n",
            "Using /usr/local/lib/python3.6/dist-packages\n",
            "Searching for six==1.12.0\n",
            "Best match: six 1.12.0\n",
            "Adding six 1.12.0 to easy-install.pth file\n",
            "\n",
            "Using /usr/local/lib/python3.6/dist-packages\n",
            "Finished processing dependencies for ember==0.1.0\n"
          ],
          "name": "stdout"
        }
      ]
    },
    {
      "cell_type": "markdown",
      "metadata": {
        "id": "AXym5qd8Yv8f",
        "colab_type": "text"
      },
      "source": [
        "**Step 7:** Read vectorized features from the data files."
      ]
    },
    {
      "cell_type": "code",
      "metadata": {
        "id": "GfcHyoTsmCFH",
        "colab_type": "code",
        "colab": {
          "base_uri": "https://localhost:8080/",
          "height": 121
        },
        "outputId": "ca9c83d9-b5be-4f28-ec74-bdc8b8c11649"
      },
      "source": [
        "import ember\n",
        "X_train, y_train, X_test, y_test = ember.read_vectorized_features(\"drive/My Drive/vMalConv/\")\n",
        "metadata_dataframe = ember.read_metadata(\"drive/My Drive/vMalConv/\")"
      ],
      "execution_count": 37,
      "outputs": [
        {
          "output_type": "stream",
          "text": [
            "WARNING: EMBER feature version 2 were computed using lief version 0.9.0-\n",
            "WARNING:   lief version 0.10.1-bfe5414 found instead. There may be slight inconsistencies\n",
            "WARNING:   in the feature calculations.\n"
          ],
          "name": "stdout"
        },
        {
          "output_type": "stream",
          "text": [
            "/usr/local/lib/python3.6/dist-packages/numpy/lib/arraysetops.py:569: FutureWarning: elementwise comparison failed; returning scalar instead, but in the future will perform elementwise comparison\n",
            "  mask |= (ar1 == a)\n"
          ],
          "name": "stderr"
        }
      ]
    },
    {
      "cell_type": "markdown",
      "metadata": {
        "id": "FTRCz7m7Z7EH",
        "colab_type": "text"
      },
      "source": [
        "**Step 7:** Get rid of rows with no labels."
      ]
    },
    {
      "cell_type": "code",
      "metadata": {
        "id": "Zj63lcvin44q",
        "colab_type": "code",
        "colab": {}
      },
      "source": [
        "labelrows = (y_train != -1)\n",
        "X_train = X_train[labelrows]\n",
        "y_train = y_train[labelrows]"
      ],
      "execution_count": 0,
      "outputs": []
    },
    {
      "cell_type": "code",
      "metadata": {
        "id": "mVG59AGooyC5",
        "colab_type": "code",
        "colab": {}
      },
      "source": [
        "import h5py\n",
        "h5f = h5py.File('X_train.h5', 'w')\n",
        "h5f.create_dataset('X_train', data=X_train)\n",
        "h5f.close()\n",
        "h5f = h5py.File('y_train.h5', 'w')\n",
        "h5f.create_dataset('y_train', data=y_train)\n",
        "h5f.close()"
      ],
      "execution_count": 0,
      "outputs": []
    },
    {
      "cell_type": "code",
      "metadata": {
        "id": "5tmUIJNvpZch",
        "colab_type": "code",
        "colab": {}
      },
      "source": [
        "!cp /content/X_train.h5 /content/drive/My\\ Drive/vMalConv/X_train.h5\n",
        "!cp /content/y_train.h5 /content/drive/My\\ Drive/vMalConv/y_train.h5"
      ],
      "execution_count": 0,
      "outputs": []
    },
    {
      "cell_type": "markdown",
      "metadata": {
        "id": "F1bRlBWlaQdd",
        "colab_type": "text"
      },
      "source": [
        "> **Exercise 1:** Complete the following code to create the architecture of MalConv in Keras:"
      ]
    },
    {
      "cell_type": "code",
      "metadata": {
        "id": "K1UTVZi0qkGe",
        "colab_type": "code",
        "colab": {}
      },
      "source": [
        "def make_model():\n",
        "  import tensorflow as tf\n",
        "  from tensorflow import keras\n",
        "  from tensorflow.keras import layers\n",
        "  feature_size=2381\n",
        "  tf.compat.v1.disable_eager_execution()\n",
        "\n",
        "  keras.backend.clear_session()\n",
        "  \n",
        "  # Model architecture\n",
        "  from tensorflow.keras import layers\n",
        "  model = tf.keras.Sequential()\n",
        "  ### Your code -- Define the layers of MalConv ###\n",
        "  model.add(layers.InputLayer(input_shape=(1,feature_size)))\n",
        "  model.add(layers.Dropout(0.2))\n",
        "  model.add(layers.Dense(1500, activation='relu'))\n",
        "  model.add(layers.Dropout(0.5))\n",
        "  model.add(layers.Dense(1, activation='sigmoid'))\n",
        "\n",
        "  model.compile(tf.keras.optimizers.Adam(learning_rate=0.001),\n",
        "            loss='binary_crossentropy',\n",
        "            metrics=['accuracy',tf.keras.metrics.AUC(),tf.keras.metrics.Precision()])\n",
        "  print(model.summary())\n",
        "  return model\n",
        " \n",
        "\n",
        "  model.compile(tf.keras.optimizers.Adam(learning_rate=0.001),\n",
        "            loss='binary_crossentropy',\n",
        "            metrics=['accuracy',tf.keras.metrics.AUC(),tf.keras.metrics.Precision()])\n",
        "  print(model.summary())\n",
        "  return model"
      ],
      "execution_count": 0,
      "outputs": []
    },
    {
      "cell_type": "code",
      "metadata": {
        "id": "g1ZlKQwDv4uz",
        "colab_type": "code",
        "colab": {
          "base_uri": "https://localhost:8080/",
          "height": 302
        },
        "outputId": "cd68a760-f650-4f62-9144-e6ea8c3fff40"
      },
      "source": [
        "model = make_model()"
      ],
      "execution_count": 42,
      "outputs": [
        {
          "output_type": "stream",
          "text": [
            "Model: \"sequential\"\n",
            "_________________________________________________________________\n",
            "Layer (type)                 Output Shape              Param #   \n",
            "=================================================================\n",
            "dropout (Dropout)            (None, 1, 2381)           0         \n",
            "_________________________________________________________________\n",
            "dense (Dense)                (None, 1, 1500)           3573000   \n",
            "_________________________________________________________________\n",
            "dropout_1 (Dropout)          (None, 1, 1500)           0         \n",
            "_________________________________________________________________\n",
            "dense_1 (Dense)              (None, 1, 1)              1501      \n",
            "=================================================================\n",
            "Total params: 3,574,501\n",
            "Trainable params: 3,574,501\n",
            "Non-trainable params: 0\n",
            "_________________________________________________________________\n",
            "None\n"
          ],
          "name": "stdout"
        }
      ]
    },
    {
      "cell_type": "markdown",
      "metadata": {
        "id": "pihnLcFmbaet",
        "colab_type": "text"
      },
      "source": [
        "**Step 8:** Partial fit the standardScaler to avoid overloading the memory:"
      ]
    },
    {
      "cell_type": "code",
      "metadata": {
        "id": "H4q5OfK9v9iN",
        "colab_type": "code",
        "colab": {}
      },
      "source": [
        "from sklearn.preprocessing import StandardScaler\n",
        "mms = StandardScaler()\n",
        "for x in range(0,600000,100000):\n",
        "  mms.partial_fit(X_train[x:x+100000])"
      ],
      "execution_count": 0,
      "outputs": []
    },
    {
      "cell_type": "code",
      "metadata": {
        "id": "B33Oa1sTxdB0",
        "colab_type": "code",
        "colab": {}
      },
      "source": [
        "X_train = mms.transform(X_train)"
      ],
      "execution_count": 0,
      "outputs": []
    },
    {
      "cell_type": "code",
      "metadata": {
        "id": "V_vl5yrex0yY",
        "colab_type": "code",
        "colab": {}
      },
      "source": [
        "## Reshape to create 3 channels ##\n",
        "import numpy as np\n",
        "X_train = np.reshape(X_train,(-1,1,2381))\n",
        "y_train = np.reshape(y_train,(-1,1,1))"
      ],
      "execution_count": 0,
      "outputs": []
    },
    {
      "cell_type": "markdown",
      "metadata": {
        "id": "2zMgth6McCqV",
        "colab_type": "text"
      },
      "source": [
        "> **Exercise 2:** Complete the following code to train the model for 30 epochs, with a batch size of 128, and 20% validation split. "
      ]
    },
    {
      "cell_type": "code",
      "metadata": {
        "id": "IncS7YgW6xJZ",
        "colab_type": "code",
        "colab": {
          "base_uri": "https://localhost:8080/",
          "height": 474
        },
        "outputId": "5e650c01-9f5f-409b-9dd2-10921df4732d"
      },
      "source": [
        "%tensorflow_version 2.x\n",
        "import tensorflow as tf\n",
        "tf.compat.v1.disable_eager_execution()\n",
        "\n",
        "save_dir = \"drive/My Drive/vMalConv/\"\n",
        "\n",
        "callback = tf.keras.callbacks.EarlyStopping(monitor='val_loss', patience=10)\n",
        "\n",
        "### Your code ###\n",
        "\n",
        "model.compile(tf.keras.optimizers.Adam(learning_rate=0.01),\n",
        "          loss='binary_crossentropy',\n",
        "          metrics=['accuracy',tf.keras.metrics.AUC(),tf.keras.metrics.Precision()])\n",
        "\n",
        "history = model.fit(X_train, y_train,\n",
        "                batch_size=128,\n",
        "                epochs=30,\n",
        "                  validation_split=.2,\n",
        "                  callbacks=[callback]\n",
        "                  )\n",
        "# Save the weights #\n",
        "model.save_weights (save_dir+'weights.h5')\n",
        "\n",
        "# Save the model architecture #\n",
        "model_json = model.to_json()\n",
        "with open(save_dir+\"model.json\", \"w\") as json_file:\n",
        "    json_file.write(model_json)\n",
        "\n",
        "print(\"model saved.\")"
      ],
      "execution_count": 46,
      "outputs": [
        {
          "output_type": "stream",
          "text": [
            "Train on 480000 samples, validate on 120000 samples\n",
            "Epoch 1/30\n",
            "480000/480000 [==============================] - 73s 153us/sample - loss: 6.5256 - accuracy: 0.9404 - auc_1: 0.9464 - precision_1: 0.9393 - val_loss: 14.4840 - val_accuracy: 0.9603 - val_auc_1: 0.9640 - val_precision_1: 0.9873\n",
            "Epoch 2/30\n",
            "480000/480000 [==============================] - 68s 142us/sample - loss: 9.6596 - accuracy: 0.9589 - auc_1: 0.9622 - precision_1: 0.9580 - val_loss: 2.8900 - val_accuracy: 0.9820 - val_auc_1: 0.9853 - val_precision_1: 0.9797\n",
            "Epoch 3/30\n",
            "480000/480000 [==============================] - 63s 132us/sample - loss: 9.8723 - accuracy: 0.9630 - auc_1: 0.9666 - precision_1: 0.9620 - val_loss: 10.9019 - val_accuracy: 0.9760 - val_auc_1: 0.9771 - val_precision_1: 0.9749\n",
            "Epoch 4/30\n",
            "480000/480000 [==============================] - 56s 117us/sample - loss: 9.2982 - accuracy: 0.9658 - auc_1: 0.9696 - precision_1: 0.9644 - val_loss: 4.5520 - val_accuracy: 0.9860 - val_auc_1: 0.9893 - val_precision_1: 0.9921\n",
            "Epoch 5/30\n",
            "480000/480000 [==============================] - 66s 137us/sample - loss: 8.6994 - accuracy: 0.9669 - auc_1: 0.9713 - precision_1: 0.9652 - val_loss: 4.9579 - val_accuracy: 0.9843 - val_auc_1: 0.9897 - val_precision_1: 0.9937\n",
            "Epoch 6/30\n",
            "480000/480000 [==============================] - 72s 150us/sample - loss: 7.8357 - accuracy: 0.9683 - auc_1: 0.9737 - precision_1: 0.9673 - val_loss: 5.9107 - val_accuracy: 0.9862 - val_auc_1: 0.9896 - val_precision_1: 0.9893\n",
            "Epoch 7/30\n",
            "480000/480000 [==============================] - 71s 148us/sample - loss: 11.8685 - accuracy: 0.9680 - auc_1: 0.9728 - precision_1: 0.9661 - val_loss: 7.1579 - val_accuracy: 0.9862 - val_auc_1: 0.9901 - val_precision_1: 0.9913\n",
            "Epoch 8/30\n",
            "480000/480000 [==============================] - 67s 141us/sample - loss: 12.3534 - accuracy: 0.9699 - auc_1: 0.9748 - precision_1: 0.9679 - val_loss: 7.9025 - val_accuracy: 0.9880 - val_auc_1: 0.9912 - val_precision_1: 0.9902\n",
            "Epoch 9/30\n",
            "480000/480000 [==============================] - 60s 125us/sample - loss: 10.7336 - accuracy: 0.9696 - auc_1: 0.9759 - precision_1: 0.9666 - val_loss: 9.5887 - val_accuracy: 0.9858 - val_auc_1: 0.9899 - val_precision_1: 0.9924\n",
            "Epoch 10/30\n",
            "480000/480000 [==============================] - 59s 123us/sample - loss: 12.5621 - accuracy: 0.9698 - auc_1: 0.9763 - precision_1: 0.9672 - val_loss: 11.7713 - val_accuracy: 0.9877 - val_auc_1: 0.9917 - val_precision_1: 0.9917\n",
            "Epoch 11/30\n",
            "480000/480000 [==============================] - 64s 134us/sample - loss: 11.4256 - accuracy: 0.9705 - auc_1: 0.9784 - precision_1: 0.9719 - val_loss: 10.0997 - val_accuracy: 0.9840 - val_auc_1: 0.9902 - val_precision_1: 0.9879\n",
            "Epoch 12/30\n",
            "480000/480000 [==============================] - 67s 140us/sample - loss: 11.2476 - accuracy: 0.9699 - auc_1: 0.9782 - precision_1: 0.9666 - val_loss: 10.3604 - val_accuracy: 0.9873 - val_auc_1: 0.9917 - val_precision_1: 0.9926\n",
            "model saved.\n"
          ],
          "name": "stdout"
        }
      ]
    },
    {
      "cell_type": "markdown",
      "metadata": {
        "id": "om_qWZMvebjB",
        "colab_type": "text"
      },
      "source": [
        "**Final Steps:** Download this Jupyter Notebook, and the saved model files."
      ]
    }
  ]
}