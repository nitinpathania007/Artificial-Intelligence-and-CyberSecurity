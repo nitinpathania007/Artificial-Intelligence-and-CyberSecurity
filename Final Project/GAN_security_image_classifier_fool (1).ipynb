{
 "cells": [
  {
   "cell_type": "markdown",
   "metadata": {},
   "source": [
    "## Generating fake breast cancer images using GAN\n",
    "\n",
    "\n",
    "References\n",
    "https://arxiv.org/pdf/1406.2661.pdf\n"
   ]
  },
  {
   "cell_type": "markdown",
   "metadata": {},
   "source": [
    "## Import libraries"
   ]
  },
  {
   "cell_type": "code",
   "execution_count": 76,
   "metadata": {},
   "outputs": [
    {
     "name": "stdout",
     "output_type": "stream",
     "text": [
      "Requirement already satisfied: torch in /home/ec2-user/anaconda3/envs/amazonei_mxnet_p27/lib/python2.7/site-packages (1.4.0)\n",
      "\u001b[31mtyping-extensions 3.7.4.1 has requirement typing>=3.7.4; python_version < \"3.5\", but you'll have typing 3.6.4 which is incompatible.\u001b[0m\n",
      "\u001b[33mYou are using pip version 10.0.1, however version 20.1 is available.\n",
      "You should consider upgrading via the 'pip install --upgrade pip' command.\u001b[0m\n"
     ]
    }
   ],
   "source": [
    "!pip install torch"
   ]
  },
  {
   "cell_type": "code",
   "execution_count": 3,
   "metadata": {},
   "outputs": [
    {
     "name": "stdout",
     "output_type": "stream",
     "text": [
      "Requirement already satisfied: torchvision in /home/ec2-user/anaconda3/envs/amazonei_mxnet_p27/lib/python2.7/site-packages (0.5.0)\n",
      "Requirement already satisfied: six in /home/ec2-user/anaconda3/envs/amazonei_mxnet_p27/lib/python2.7/site-packages (from torchvision) (1.11.0)\n",
      "Requirement already satisfied: numpy in /home/ec2-user/anaconda3/envs/amazonei_mxnet_p27/lib/python2.7/site-packages (from torchvision) (1.14.6)\n",
      "Requirement already satisfied: pillow>=4.1.1 in /home/ec2-user/anaconda3/envs/amazonei_mxnet_p27/lib/python2.7/site-packages (from torchvision) (5.1.0)\n",
      "Requirement already satisfied: torch==1.4.0 in /home/ec2-user/anaconda3/envs/amazonei_mxnet_p27/lib/python2.7/site-packages (from torchvision) (1.4.0)\n",
      "\u001b[31mtyping-extensions 3.7.4.1 has requirement typing>=3.7.4; python_version < \"3.5\", but you'll have typing 3.6.4 which is incompatible.\u001b[0m\n",
      "\u001b[33mYou are using pip version 10.0.1, however version 20.1 is available.\n",
      "You should consider upgrading via the 'pip install --upgrade pip' command.\u001b[0m\n"
     ]
    }
   ],
   "source": [
    "!pip install torchvision"
   ]
  },
  {
   "cell_type": "code",
   "execution_count": 4,
   "metadata": {},
   "outputs": [],
   "source": [
    "import os\n",
    "import numpy as np\n",
    "import matplotlib.pyplot as plt\n",
    "\n",
    "import torch\n",
    "import torchvision\n",
    "import torch.nn as nn\n",
    "from torchvision import transforms\n",
    "from torchvision.utils import save_image"
   ]
  },
  {
   "cell_type": "markdown",
   "metadata": {},
   "source": [
    "## Load Data\n",
    "* Define constants\n",
    "* Load breast cancer dataset and apply transforms\n",
    "* Define dataloader"
   ]
  },
  {
   "cell_type": "code",
   "execution_count": 5,
   "metadata": {},
   "outputs": [],
   "source": [
    "batch_size = 1\n",
    "\n",
    "device = torch.device('cuda' if torch.cuda.is_available() else 'cpu')"
   ]
  },
  {
   "cell_type": "code",
   "execution_count": 6,
   "metadata": {},
   "outputs": [],
   "source": [
    "transform = transforms.Compose([\n",
    "                transforms.ToTensor(),\n",
    "                transforms.Normalize((0.5,), (0.5,))])"
   ]
  },
  {
   "cell_type": "code",
   "execution_count": 7,
   "metadata": {},
   "outputs": [],
   "source": [
    "data = torchvision.datasets.ImageFolder(root='images/', transform=transform)"
   ]
  },
  {
   "cell_type": "code",
   "execution_count": 8,
   "metadata": {},
   "outputs": [
    {
     "data": {
      "text/plain": [
       "Dataset ImageFolder\n",
       "    Number of datapoints: 277524\n",
       "    Root location: images/\n",
       "    StandardTransform\n",
       "Transform: Compose(\n",
       "               ToTensor()\n",
       "               Normalize(mean=(0.5,), std=(0.5,))\n",
       "           )"
      ]
     },
     "execution_count": 8,
     "metadata": {},
     "output_type": "execute_result"
    }
   ],
   "source": [
    "data"
   ]
  },
  {
   "cell_type": "code",
   "execution_count": 9,
   "metadata": {},
   "outputs": [],
   "source": [
    "data_loader = torch.utils.data.DataLoader(dataset=data,\n",
    "                                          batch_size=batch_size, \n",
    "                                          shuffle=True,\n",
    "                                          num_workers=1)"
   ]
  },
  {
   "cell_type": "markdown",
   "metadata": {},
   "source": [
    "## Visualize Data"
   ]
  },
  {
   "cell_type": "code",
   "execution_count": 10,
   "metadata": {},
   "outputs": [],
   "source": [
    "images, labels = iter(data_loader).next()"
   ]
  },
  {
   "cell_type": "code",
   "execution_count": 11,
   "metadata": {},
   "outputs": [
    {
     "data": {
      "text/plain": [
       "tensor([[[[ 0.7804,  0.5216,  0.5922,  ..., -0.0902, -0.0039,  0.2863],\n",
       "          [ 0.4196,  0.4039,  0.3333,  ...,  0.2471, -0.0196,  0.1294],\n",
       "          [ 0.3098,  0.4353,  0.3569,  ...,  0.3098,  0.3176,  0.1922],\n",
       "          ...,\n",
       "          [ 0.0431,  0.0431,  0.3333,  ...,  0.5686,  0.4196,  0.5686],\n",
       "          [ 0.3961,  0.1451,  0.3647,  ...,  0.3490,  0.2941,  0.4824],\n",
       "          [ 0.2235,  0.2235,  0.2078,  ...,  0.1843,  0.6471,  0.2549]],\n",
       "\n",
       "         [[ 0.6627,  0.3176,  0.4118,  ..., -0.4353, -0.3804, -0.0275],\n",
       "          [ 0.1686,  0.1137, -0.0353,  ..., -0.1059, -0.3725, -0.2784],\n",
       "          [-0.0588,  0.1216, -0.0431,  ..., -0.0588, -0.0745, -0.1608],\n",
       "          ...,\n",
       "          [-0.2863, -0.2627, -0.0275,  ...,  0.3176,  0.0039,  0.3098],\n",
       "          [ 0.0275, -0.2078, -0.0196,  ...,  0.0039, -0.3098, -0.2784],\n",
       "          [-0.0745, -0.0667, -0.1373,  ..., -0.0980,  0.3882, -0.0196]],\n",
       "\n",
       "         [[ 0.7569,  0.5294,  0.6078,  ...,  0.0039,  0.0353,  0.3255],\n",
       "          [ 0.4745,  0.4510,  0.3333,  ...,  0.2392,  0.0745,  0.1216],\n",
       "          [ 0.2784,  0.3961,  0.3333,  ...,  0.2627,  0.2627,  0.2235],\n",
       "          ...,\n",
       "          [ 0.1059,  0.1059,  0.3255,  ...,  0.5843,  0.3098,  0.5294],\n",
       "          [ 0.3882,  0.1686,  0.3569,  ...,  0.3804, -0.0118,  0.0431],\n",
       "          [ 0.2392,  0.3176,  0.2314,  ...,  0.2000,  0.6078,  0.2863]]]])"
      ]
     },
     "execution_count": 11,
     "metadata": {},
     "output_type": "execute_result"
    }
   ],
   "source": [
    "images"
   ]
  },
  {
   "cell_type": "code",
   "execution_count": 12,
   "metadata": {},
   "outputs": [
    {
     "data": {
      "text/plain": [
       "torch.Size([1, 3, 50, 50])"
      ]
     },
     "execution_count": 12,
     "metadata": {},
     "output_type": "execute_result"
    }
   ],
   "source": [
    "images.shape"
   ]
  },
  {
   "cell_type": "code",
   "execution_count": 13,
   "metadata": {},
   "outputs": [
    {
     "data": {
      "text/plain": [
       "tensor([1])"
      ]
     },
     "execution_count": 13,
     "metadata": {},
     "output_type": "execute_result"
    }
   ],
   "source": [
    "labels"
   ]
  },
  {
   "cell_type": "code",
   "execution_count": 14,
   "metadata": {},
   "outputs": [
    {
     "data": {
      "text/plain": [
       "1"
      ]
     },
     "execution_count": 14,
     "metadata": {},
     "output_type": "execute_result"
    }
   ],
   "source": [
    "len(labels)"
   ]
  },
  {
   "cell_type": "code",
   "execution_count": 15,
   "metadata": {},
   "outputs": [],
   "source": [
    "img = torchvision.utils.make_grid(images)"
   ]
  },
  {
   "cell_type": "code",
   "execution_count": 16,
   "metadata": {},
   "outputs": [],
   "source": [
    "img = img.detach().numpy()\n",
    "img = img.clip(0,1)"
   ]
  },
  {
   "cell_type": "code",
   "execution_count": 17,
   "metadata": {},
   "outputs": [
    {
     "data": {
      "image/png": "[encoded data removed]",
      "text/plain": [
       "<Figure size 864x720 with 1 Axes>"
      ]
     },
     "metadata": {},
     "output_type": "display_data"
    }
   ],
   "source": [
    "plt.figure(figsize = (12,10))\n",
    "plt.imshow(np.transpose(img, (1,2,0)))\n",
    "plt.axis('off')\n",
    "plt.show()"
   ]
  },
  {
   "cell_type": "markdown",
   "metadata": {},
   "source": [
    "## Define Neural Networks\n",
    "* Define Hyper-parameters\n",
    "* Define the Discriminator\n",
    "* Define the Generator \n",
    "\n"
   ]
  },
  {
   "cell_type": "code",
   "execution_count": 18,
   "metadata": {},
   "outputs": [],
   "source": [
    "latent_size = 64\n",
    "hidden_size = 256\n",
    "image_size = 7500\n",
    "num_epochs = 1"
   ]
  },
  {
   "cell_type": "code",
   "execution_count": 19,
   "metadata": {},
   "outputs": [],
   "source": [
    "D = nn.Sequential(\n",
    "    nn.Linear(image_size, hidden_size),\n",
    "    nn.LeakyReLU(0.2),\n",
    "    nn.Dropout(0.5),\n",
    "    nn.Linear(hidden_size, hidden_size),\n",
    "    nn.LeakyReLU(0.2),\n",
    "    nn.Dropout(0.5),\n",
    "    nn.Linear(hidden_size, 1),\n",
    "    nn.Sigmoid())"
   ]
  },
  {
   "cell_type": "code",
   "execution_count": 20,
   "metadata": {},
   "outputs": [
    {
     "data": {
      "text/plain": [
       "Sequential(\n",
       "  (0): Linear(in_features=7500, out_features=256, bias=True)\n",
       "  (1): LeakyReLU(negative_slope=0.2)\n",
       "  (2): Dropout(p=0.5, inplace=False)\n",
       "  (3): Linear(in_features=256, out_features=256, bias=True)\n",
       "  (4): LeakyReLU(negative_slope=0.2)\n",
       "  (5): Dropout(p=0.5, inplace=False)\n",
       "  (6): Linear(in_features=256, out_features=1, bias=True)\n",
       "  (7): Sigmoid()\n",
       ")"
      ]
     },
     "execution_count": 20,
     "metadata": {},
     "output_type": "execute_result"
    }
   ],
   "source": [
    "D"
   ]
  },
  {
   "cell_type": "code",
   "execution_count": 21,
   "metadata": {},
   "outputs": [],
   "source": [
    "G = nn.Sequential(\n",
    "    nn.Linear(latent_size, hidden_size),\n",
    "    nn.ReLU(),\n",
    "    nn.Linear(hidden_size, hidden_size),\n",
    "    nn.ReLU(),\n",
    "    nn.Linear(hidden_size, image_size),\n",
    "    nn.Tanh())"
   ]
  },
  {
   "cell_type": "code",
   "execution_count": 22,
   "metadata": {},
   "outputs": [
    {
     "data": {
      "text/plain": [
       "Sequential(\n",
       "  (0): Linear(in_features=64, out_features=256, bias=True)\n",
       "  (1): ReLU()\n",
       "  (2): Linear(in_features=256, out_features=256, bias=True)\n",
       "  (3): ReLU()\n",
       "  (4): Linear(in_features=256, out_features=7500, bias=True)\n",
       "  (5): Tanh()\n",
       ")"
      ]
     },
     "execution_count": 22,
     "metadata": {},
     "output_type": "execute_result"
    }
   ],
   "source": [
    "G"
   ]
  },
  {
   "cell_type": "code",
   "execution_count": 23,
   "metadata": {},
   "outputs": [],
   "source": [
    "D = D.to(device)\n",
    "G = G.to(device)"
   ]
  },
  {
   "cell_type": "markdown",
   "metadata": {},
   "source": [
    "## Training"
   ]
  },
  {
   "cell_type": "code",
   "execution_count": 24,
   "metadata": {},
   "outputs": [],
   "source": [
    "bce_loss = nn.BCELoss()\n",
    "\n",
    "d_optimizer = torch.optim.Adam(D.parameters(), lr=0.0002)\n",
    "g_optimizer = torch.optim.Adam(G.parameters(), lr=0.0002)"
   ]
  },
  {
   "cell_type": "code",
   "execution_count": 25,
   "metadata": {},
   "outputs": [
    {
     "data": {
      "text/plain": [
       "Adam (\n",
       "Parameter Group 0\n",
       "    amsgrad: False\n",
       "    betas: (0.9, 0.999)\n",
       "    eps: 1e-08\n",
       "    lr: 0.0002\n",
       "    weight_decay: 0\n",
       ")"
      ]
     },
     "execution_count": 25,
     "metadata": {},
     "output_type": "execute_result"
    }
   ],
   "source": [
    "d_optimizer"
   ]
  },
  {
   "cell_type": "code",
   "execution_count": 26,
   "metadata": {},
   "outputs": [
    {
     "data": {
      "text/plain": [
       "Adam (\n",
       "Parameter Group 0\n",
       "    amsgrad: False\n",
       "    betas: (0.9, 0.999)\n",
       "    eps: 1e-08\n",
       "    lr: 0.0002\n",
       "    weight_decay: 0\n",
       ")"
      ]
     },
     "execution_count": 26,
     "metadata": {},
     "output_type": "execute_result"
    }
   ],
   "source": [
    "g_optimizer"
   ]
  },
  {
   "cell_type": "code",
   "execution_count": 27,
   "metadata": {},
   "outputs": [],
   "source": [
    "total_step = len(data_loader)"
   ]
  },
  {
   "cell_type": "code",
   "execution_count": 28,
   "metadata": {},
   "outputs": [
    {
     "data": {
      "text/plain": [
       "277524"
      ]
     },
     "execution_count": 28,
     "metadata": {},
     "output_type": "execute_result"
    }
   ],
   "source": [
    "total_step"
   ]
  },
  {
   "cell_type": "code",
   "execution_count": 29,
   "metadata": {},
   "outputs": [
    {
     "data": {
      "text/plain": [
       "tensor([1])"
      ]
     },
     "execution_count": 29,
     "metadata": {},
     "output_type": "execute_result"
    }
   ],
   "source": [
    "labels"
   ]
  },
  {
   "cell_type": "code",
   "execution_count": 30,
   "metadata": {},
   "outputs": [
    {
     "data": {
      "text/plain": [
       "torch.Size([1, 3, 50, 50])"
      ]
     },
     "execution_count": 30,
     "metadata": {},
     "output_type": "execute_result"
    }
   ],
   "source": [
    "images.shape"
   ]
  },
  {
   "cell_type": "code",
   "execution_count": 31,
   "metadata": {},
   "outputs": [
    {
     "name": "stdout",
     "output_type": "stream",
     "text": [
      "torch.Size([1, 7500])\n"
     ]
    }
   ],
   "source": [
    "images = images.reshape(batch_size, -1).to(device)\n",
    "print(images.shape)"
   ]
  },
  {
   "cell_type": "code",
   "execution_count": 32,
   "metadata": {},
   "outputs": [
    {
     "name": "stdout",
     "output_type": "stream",
     "text": [
      "torch.Size([1, 1])\n",
      "torch.Size([1, 1])\n"
     ]
    }
   ],
   "source": [
    "# Create the labels which are later used as input for the BCE loss\n",
    "real_labels = torch.ones(batch_size, 1).to(device)\n",
    "fake_labels = torch.zeros(batch_size, 1).to(device)\n",
    "print(real_labels.shape)\n",
    "print(fake_labels.shape)"
   ]
  },
  {
   "cell_type": "code",
   "execution_count": 33,
   "metadata": {},
   "outputs": [],
   "source": [
    "outputs = D(images)"
   ]
  },
  {
   "cell_type": "code",
   "execution_count": 34,
   "metadata": {},
   "outputs": [
    {
     "name": "stdout",
     "output_type": "stream",
     "text": [
      "1\n"
     ]
    }
   ],
   "source": [
    "print(len(outputs))"
   ]
  },
  {
   "cell_type": "code",
   "execution_count": 35,
   "metadata": {},
   "outputs": [],
   "source": [
    "d_loss_real = bce_loss(outputs, real_labels)"
   ]
  },
  {
   "cell_type": "code",
   "execution_count": 36,
   "metadata": {},
   "outputs": [
    {
     "name": "stdout",
     "output_type": "stream",
     "text": [
      "tensor(0.6768, grad_fn=<BinaryCrossEntropyBackward>)\n"
     ]
    }
   ],
   "source": [
    "print(d_loss_real)"
   ]
  },
  {
   "cell_type": "code",
   "execution_count": 37,
   "metadata": {},
   "outputs": [],
   "source": [
    "real_score = outputs"
   ]
  },
  {
   "cell_type": "code",
   "execution_count": 38,
   "metadata": {},
   "outputs": [
    {
     "name": "stdout",
     "output_type": "stream",
     "text": [
      "tensor([[0.5082]], grad_fn=<SigmoidBackward>)\n"
     ]
    }
   ],
   "source": [
    "print(real_score)"
   ]
  },
  {
   "cell_type": "code",
   "execution_count": 39,
   "metadata": {},
   "outputs": [],
   "source": [
    "z = torch.randn(batch_size, latent_size).to(device)"
   ]
  },
  {
   "cell_type": "code",
   "execution_count": 40,
   "metadata": {},
   "outputs": [
    {
     "name": "stdout",
     "output_type": "stream",
     "text": [
      "tensor([[-4.5825e-01, -7.5672e-01, -2.0993e-01, -9.6704e-01,  1.7044e+00,\n",
      "         -4.9892e-01,  6.8968e-01, -1.2894e+00, -4.4721e-01,  1.1660e+00,\n",
      "          7.0301e-01,  9.5665e-01,  5.0005e-01, -5.4320e-01, -2.4620e-02,\n",
      "         -1.4935e-01,  9.8199e-01,  1.4331e-01, -2.9720e-01, -1.8318e-01,\n",
      "          3.9759e-01,  7.5468e-01, -6.0429e-01, -9.9365e-01,  1.3864e+00,\n",
      "          9.1265e-01,  5.8497e-04,  2.0168e-01, -1.2096e+00,  2.8769e-01,\n",
      "          1.2280e-01,  2.3379e+00, -1.4977e+00, -4.0523e-01,  1.2812e+00,\n",
      "          2.2007e+00, -1.6488e+00,  1.4599e-01, -1.4575e+00, -1.3015e-01,\n",
      "          1.9392e-02,  1.6427e-01, -1.1048e+00, -1.3490e-01,  6.6899e-01,\n",
      "          9.8525e-01,  2.4966e-01,  2.7995e-02,  1.0118e+00, -2.0490e-01,\n",
      "         -1.5961e+00,  6.9352e-01, -8.0327e-01,  1.7404e-01, -1.4417e+00,\n",
      "          6.0758e-01,  3.8035e-01, -6.1052e-02,  5.5206e-01,  3.0877e-01,\n",
      "         -3.0077e-01, -3.6882e-01,  1.1658e+00, -1.6603e-02]])\n"
     ]
    }
   ],
   "source": [
    "print(z)"
   ]
  },
  {
   "cell_type": "code",
   "execution_count": 41,
   "metadata": {},
   "outputs": [],
   "source": [
    "fake_images = G(z)"
   ]
  },
  {
   "cell_type": "code",
   "execution_count": 42,
   "metadata": {},
   "outputs": [
    {
     "name": "stdout",
     "output_type": "stream",
     "text": [
      "tensor([[ 0.0318, -0.0560,  0.0602,  ...,  0.0195,  0.0829, -0.1298]],\n",
      "       grad_fn=<TanhBackward>)\n"
     ]
    }
   ],
   "source": [
    "print(fake_images)"
   ]
  },
  {
   "cell_type": "code",
   "execution_count": 43,
   "metadata": {},
   "outputs": [],
   "source": [
    "outputs = D(fake_images)"
   ]
  },
  {
   "cell_type": "code",
   "execution_count": 44,
   "metadata": {},
   "outputs": [
    {
     "data": {
      "text/plain": [
       "tensor([[0.5059]], grad_fn=<SigmoidBackward>)"
      ]
     },
     "execution_count": 44,
     "metadata": {},
     "output_type": "execute_result"
    }
   ],
   "source": [
    "outputs"
   ]
  },
  {
   "cell_type": "code",
   "execution_count": 45,
   "metadata": {},
   "outputs": [],
   "source": [
    "d_loss_fake = bce_loss(outputs, fake_labels)"
   ]
  },
  {
   "cell_type": "code",
   "execution_count": 46,
   "metadata": {},
   "outputs": [
    {
     "name": "stdout",
     "output_type": "stream",
     "text": [
      "tensor(0.7051, grad_fn=<BinaryCrossEntropyBackward>)\n"
     ]
    }
   ],
   "source": [
    "print(d_loss_fake)"
   ]
  },
  {
   "cell_type": "code",
   "execution_count": 47,
   "metadata": {},
   "outputs": [],
   "source": [
    "fake_score = outputs"
   ]
  },
  {
   "cell_type": "code",
   "execution_count": 48,
   "metadata": {},
   "outputs": [
    {
     "name": "stdout",
     "output_type": "stream",
     "text": [
      "tensor([[0.5059]], grad_fn=<SigmoidBackward>)\n"
     ]
    }
   ],
   "source": [
    "print(fake_score)"
   ]
  },
  {
   "cell_type": "code",
   "execution_count": 49,
   "metadata": {},
   "outputs": [],
   "source": [
    "d_loss = d_loss_real + d_loss_fake"
   ]
  },
  {
   "cell_type": "code",
   "execution_count": 50,
   "metadata": {},
   "outputs": [
    {
     "name": "stdout",
     "output_type": "stream",
     "text": [
      "tensor(1.3819, grad_fn=<AddBackward0>)\n"
     ]
    }
   ],
   "source": [
    "print(d_loss)"
   ]
  },
  {
   "cell_type": "code",
   "execution_count": 51,
   "metadata": {},
   "outputs": [],
   "source": [
    "d_optimizer.zero_grad()"
   ]
  },
  {
   "cell_type": "code",
   "execution_count": 52,
   "metadata": {},
   "outputs": [],
   "source": [
    "g_optimizer.zero_grad()"
   ]
  },
  {
   "cell_type": "code",
   "execution_count": 53,
   "metadata": {},
   "outputs": [],
   "source": [
    "d_loss.backward()"
   ]
  },
  {
   "cell_type": "code",
   "execution_count": 54,
   "metadata": {},
   "outputs": [],
   "source": [
    "d_optimizer.step()"
   ]
  },
  {
   "cell_type": "code",
   "execution_count": null,
   "metadata": {},
   "outputs": [],
   "source": []
  },
  {
   "cell_type": "code",
   "execution_count": 55,
   "metadata": {},
   "outputs": [],
   "source": [
    "z = torch.randn(batch_size, latent_size).to(device)"
   ]
  },
  {
   "cell_type": "code",
   "execution_count": 56,
   "metadata": {},
   "outputs": [
    {
     "name": "stdout",
     "output_type": "stream",
     "text": [
      "tensor([[-0.2403,  0.3369,  1.5869,  2.3133,  0.7890, -0.0268,  1.6436, -0.3911,\n",
      "         -0.5215,  0.5961,  0.2348, -0.9560,  0.6046,  1.4311, -1.4897, -0.2987,\n",
      "          0.1396, -0.9216,  0.6910, -0.9369, -2.3121, -0.8900, -0.2402,  0.3048,\n",
      "          1.5481, -0.3393,  0.5063, -1.6908, -1.0013,  0.5892,  0.0778, -0.2692,\n",
      "          0.8414,  1.6439, -0.1234, -0.9559,  1.4181, -0.9257,  1.6890,  0.2982,\n",
      "         -0.1416,  1.2656,  1.6226,  0.6034, -0.4833,  0.2318, -0.0364,  0.7796,\n",
      "          0.3584,  1.8828, -1.2239, -0.9590, -0.6024, -1.1105, -0.4932, -1.2317,\n",
      "          0.6879, -0.4413, -0.0613, -0.3230, -0.6703, -1.3599,  2.4310,  1.3562]])\n"
     ]
    }
   ],
   "source": [
    "print(z)"
   ]
  },
  {
   "cell_type": "code",
   "execution_count": 57,
   "metadata": {},
   "outputs": [],
   "source": [
    "fake_images = G(z)"
   ]
  },
  {
   "cell_type": "code",
   "execution_count": 58,
   "metadata": {},
   "outputs": [
    {
     "name": "stdout",
     "output_type": "stream",
     "text": [
      "tensor([[ 0.0085, -0.0903, -0.0675,  ..., -0.0084,  0.1834, -0.0538]],\n",
      "       grad_fn=<TanhBackward>)\n"
     ]
    }
   ],
   "source": [
    "print(fake_images)"
   ]
  },
  {
   "cell_type": "code",
   "execution_count": 59,
   "metadata": {},
   "outputs": [],
   "source": [
    "outputs = D(fake_images)"
   ]
  },
  {
   "cell_type": "code",
   "execution_count": 60,
   "metadata": {},
   "outputs": [
    {
     "name": "stdout",
     "output_type": "stream",
     "text": [
      "tensor([[0.5051]], grad_fn=<SigmoidBackward>)\n"
     ]
    }
   ],
   "source": [
    "print(outputs)"
   ]
  },
  {
   "cell_type": "code",
   "execution_count": 61,
   "metadata": {},
   "outputs": [],
   "source": [
    "g_loss = bce_loss(outputs, real_labels)"
   ]
  },
  {
   "cell_type": "code",
   "execution_count": 62,
   "metadata": {},
   "outputs": [
    {
     "name": "stdout",
     "output_type": "stream",
     "text": [
      "tensor(0.6830, grad_fn=<BinaryCrossEntropyBackward>)\n"
     ]
    }
   ],
   "source": [
    "print(g_loss)"
   ]
  },
  {
   "cell_type": "code",
   "execution_count": 63,
   "metadata": {},
   "outputs": [],
   "source": [
    "d_optimizer.zero_grad()"
   ]
  },
  {
   "cell_type": "code",
   "execution_count": 64,
   "metadata": {},
   "outputs": [],
   "source": [
    "g_optimizer.zero_grad()"
   ]
  },
  {
   "cell_type": "code",
   "execution_count": 65,
   "metadata": {},
   "outputs": [],
   "source": [
    "g_loss.backward()"
   ]
  },
  {
   "cell_type": "code",
   "execution_count": 66,
   "metadata": {},
   "outputs": [],
   "source": [
    "g_optimizer.step()"
   ]
  },
  {
   "cell_type": "code",
   "execution_count": 67,
   "metadata": {},
   "outputs": [
    {
     "data": {
      "text/plain": [
       "torch.Size([1, 7500])"
      ]
     },
     "execution_count": 67,
     "metadata": {},
     "output_type": "execute_result"
    }
   ],
   "source": [
    "images.shape"
   ]
  },
  {
   "cell_type": "code",
   "execution_count": 68,
   "metadata": {},
   "outputs": [
    {
     "data": {
      "text/plain": [
       "277524"
      ]
     },
     "execution_count": 68,
     "metadata": {},
     "output_type": "execute_result"
    }
   ],
   "source": [
    "len(data_loader)"
   ]
  },
  {
   "cell_type": "code",
   "execution_count": 69,
   "metadata": {},
   "outputs": [],
   "source": [
    "def denorm(x):\n",
    "    out = (x + 1) / 2\n",
    "    return out.clamp(0, 1)\n"
   ]
  },
  {
   "cell_type": "code",
   "execution_count": 70,
   "metadata": {},
   "outputs": [],
   "source": [
    "sample_dir=\"samples/\""
   ]
  },
  {
   "cell_type": "code",
   "execution_count": 71,
   "metadata": {},
   "outputs": [
    {
     "name": "stdout",
     "output_type": "stream",
     "text": [
      "Epoch [0/1], Step [277524/277524], d_loss: 1.3819, g_loss: 0.6830, D(x): 0.51, D(G(z)): 0.51\n"
     ]
    }
   ],
   "source": [
    "for epoch in range(num_epochs):\n",
    "    \n",
    "    for i in range(0,len(data_loader)):\n",
    "        if (i+1) % 277524 == 0:\n",
    "            print('Epoch [{}/{}], Step [{}/{}], d_loss: {:.4f}, g_loss: {:.4f}, D(x): {:.2f}, D(G(z)): {:.2f}' \n",
    "                  .format(epoch, num_epochs, i+1, total_step, d_loss.item(), g_loss.item(), \n",
    "                          real_score.mean().item(), fake_score.mean().item()))\n",
    "    fake_images = fake_images.reshape(fake_images.size(0), 3, 50, 50)\n",
    "    # Save real images\n",
    "    if (epoch+1) == 1:\n",
    "        images = images.reshape(images.size(0), 3, 50, 50)\n",
    "        save_image(denorm(images), os.path.join(sample_dir, 'real_images.png'))\n",
    "    \n",
    "    # Save sampled images\n",
    "    fake_images = fake_images.reshape(fake_images.size(0), 3, 50, 50)\n",
    "    save_image(denorm(fake_images), os.path.join(sample_dir, 'fake_images-{}.png'.format(epoch+1)))"
   ]
  },
  {
   "cell_type": "code",
   "execution_count": null,
   "metadata": {},
   "outputs": [
    {
     "name": "stdout",
     "output_type": "stream",
     "text": [
      "Epoch [0/1], Step [1000/277524], d_loss: 0.2524, g_loss: 0.6783, D(x): 0.89, D(G(z)): 0.12\n",
      "Epoch [0/1], Step [2000/277524], d_loss: 0.6601, g_loss: 0.4139, D(x): 0.74, D(G(z)): 0.30\n",
      "Epoch [0/1], Step [3000/277524], d_loss: 1.7339, g_loss: 0.8111, D(x): 0.51, D(G(z)): 0.65\n",
      "Epoch [0/1], Step [4000/277524], d_loss: 1.5635, g_loss: 0.5208, D(x): 0.57, D(G(z)): 0.63\n",
      "Epoch [0/1], Step [5000/277524], d_loss: 1.1782, g_loss: 0.8482, D(x): 0.48, D(G(z)): 0.36\n",
      "Epoch [0/1], Step [6000/277524], d_loss: 1.6184, g_loss: 0.7285, D(x): 0.50, D(G(z)): 0.60\n",
      "Epoch [0/1], Step [7000/277524], d_loss: 1.8720, g_loss: 0.4732, D(x): 0.45, D(G(z)): 0.66\n",
      "Epoch [0/1], Step [8000/277524], d_loss: 2.0546, g_loss: 0.3876, D(x): 0.66, D(G(z)): 0.81\n",
      "Epoch [0/1], Step [9000/277524], d_loss: 1.2466, g_loss: 0.6318, D(x): 0.67, D(G(z)): 0.57\n",
      "Epoch [0/1], Step [10000/277524], d_loss: 1.2037, g_loss: 0.6879, D(x): 0.52, D(G(z)): 0.43\n",
      "Epoch [0/1], Step [11000/277524], d_loss: 1.0381, g_loss: 0.8231, D(x): 0.61, D(G(z)): 0.42\n",
      "Epoch [0/1], Step [12000/277524], d_loss: 1.3716, g_loss: 0.5830, D(x): 0.40, D(G(z)): 0.36\n",
      "Epoch [0/1], Step [13000/277524], d_loss: 1.2689, g_loss: 0.4653, D(x): 0.60, D(G(z)): 0.53\n",
      "Epoch [0/1], Step [14000/277524], d_loss: 1.2338, g_loss: 0.6198, D(x): 0.58, D(G(z)): 0.50\n",
      "Epoch [0/1], Step [15000/277524], d_loss: 1.0605, g_loss: 0.5674, D(x): 0.58, D(G(z)): 0.40\n",
      "Epoch [0/1], Step [16000/277524], d_loss: 1.9997, g_loss: 0.6353, D(x): 0.53, D(G(z)): 0.75\n",
      "Epoch [0/1], Step [17000/277524], d_loss: 1.5487, g_loss: 0.7118, D(x): 0.49, D(G(z)): 0.57\n",
      "Epoch [0/1], Step [18000/277524], d_loss: 1.2544, g_loss: 0.7905, D(x): 0.56, D(G(z)): 0.49\n",
      "Epoch [0/1], Step [19000/277524], d_loss: 1.5553, g_loss: 0.7001, D(x): 0.52, D(G(z)): 0.59\n",
      "Epoch [0/1], Step [20000/277524], d_loss: 1.5417, g_loss: 0.3114, D(x): 0.47, D(G(z)): 0.55\n",
      "Epoch [0/1], Step [21000/277524], d_loss: 1.2775, g_loss: 0.9312, D(x): 0.51, D(G(z)): 0.45\n",
      "Epoch [0/1], Step [22000/277524], d_loss: 1.2275, g_loss: 0.6492, D(x): 0.46, D(G(z)): 0.36\n",
      "Epoch [0/1], Step [23000/277524], d_loss: 1.6714, g_loss: 0.6843, D(x): 0.37, D(G(z)): 0.50\n",
      "Epoch [0/1], Step [24000/277524], d_loss: 1.5142, g_loss: 0.6520, D(x): 0.48, D(G(z)): 0.54\n",
      "Epoch [0/1], Step [25000/277524], d_loss: 1.0864, g_loss: 1.1831, D(x): 0.63, D(G(z)): 0.47\n",
      "Epoch [0/1], Step [26000/277524], d_loss: 1.2425, g_loss: 0.8066, D(x): 0.55, D(G(z)): 0.48\n",
      "Epoch [0/1], Step [27000/277524], d_loss: 1.7304, g_loss: 0.5068, D(x): 0.43, D(G(z)): 0.58\n",
      "Epoch [0/1], Step [28000/277524], d_loss: 1.2497, g_loss: 0.7572, D(x): 0.55, D(G(z)): 0.48\n",
      "Epoch [0/1], Step [29000/277524], d_loss: 1.5046, g_loss: 0.6588, D(x): 0.45, D(G(z)): 0.51\n",
      "Epoch [0/1], Step [30000/277524], d_loss: 1.6698, g_loss: 0.6935, D(x): 0.54, D(G(z)): 0.65\n",
      "Epoch [0/1], Step [31000/277524], d_loss: 1.5016, g_loss: 0.8357, D(x): 0.45, D(G(z)): 0.51\n",
      "Epoch [0/1], Step [222000/277524], d_loss: 1.7635, g_loss: 0.3495, D(x): 0.39, D(G(z)): 0.56\n",
      "Epoch [0/1], Step [223000/277524], d_loss: 1.5905, g_loss: 0.6288, D(x): 0.37, D(G(z)): 0.45\n",
      "Epoch [0/1], Step [224000/277524], d_loss: 1.7871, g_loss: 0.7355, D(x): 0.37, D(G(z)): 0.55\n",
      "Epoch [0/1], Step [225000/277524], d_loss: 1.0370, g_loss: 0.5481, D(x): 0.58, D(G(z)): 0.38\n",
      "Epoch [0/1], Step [226000/277524], d_loss: 1.5329, g_loss: 0.7265, D(x): 0.43, D(G(z)): 0.50\n",
      "Epoch [0/1], Step [227000/277524], d_loss: 1.6830, g_loss: 0.9360, D(x): 0.39, D(G(z)): 0.52\n",
      "Epoch [0/1], Step [228000/277524], d_loss: 1.3380, g_loss: 0.8760, D(x): 0.51, D(G(z)): 0.49\n",
      "Epoch [0/1], Step [229000/277524], d_loss: 1.1174, g_loss: 0.9016, D(x): 0.64, D(G(z)): 0.49\n",
      "Epoch [0/1], Step [230000/277524], d_loss: 1.4411, g_loss: 0.7555, D(x): 0.35, D(G(z)): 0.33\n",
      "Epoch [0/1], Step [231000/277524], d_loss: 1.1322, g_loss: 0.7848, D(x): 0.54, D(G(z)): 0.41\n",
      "Epoch [0/1], Step [232000/277524], d_loss: 1.1335, g_loss: 0.4882, D(x): 0.59, D(G(z)): 0.46\n",
      "Epoch [0/1], Step [233000/277524], d_loss: 1.4095, g_loss: 0.6514, D(x): 0.42, D(G(z)): 0.42\n",
      "Epoch [0/1], Step [234000/277524], d_loss: 1.3513, g_loss: 0.6552, D(x): 0.50, D(G(z)): 0.49\n",
      "Epoch [0/1], Step [235000/277524], d_loss: 0.9949, g_loss: 0.8134, D(x): 0.55, D(G(z)): 0.32\n",
      "Epoch [0/1], Step [236000/277524], d_loss: 1.0730, g_loss: 0.6665, D(x): 0.52, D(G(z)): 0.34\n",
      "Epoch [0/1], Step [237000/277524], d_loss: 1.2526, g_loss: 0.4497, D(x): 0.63, D(G(z)): 0.54\n",
      "Epoch [0/1], Step [238000/277524], d_loss: 1.1847, g_loss: 1.2972, D(x): 0.57, D(G(z)): 0.46\n",
      "Epoch [0/1], Step [239000/277524], d_loss: 1.4379, g_loss: 0.7186, D(x): 0.41, D(G(z)): 0.42\n",
      "Epoch [0/1], Step [240000/277524], d_loss: 1.2865, g_loss: 0.8992, D(x): 0.56, D(G(z)): 0.51\n",
      "Epoch [0/1], Step [241000/277524], d_loss: 1.1040, g_loss: 0.6241, D(x): 0.58, D(G(z)): 0.43\n",
      "Epoch [0/1], Step [242000/277524], d_loss: 1.0739, g_loss: 1.1553, D(x): 0.58, D(G(z)): 0.41\n",
      "Epoch [0/1], Step [243000/277524], d_loss: 1.6289, g_loss: 0.5155, D(x): 0.46, D(G(z)): 0.57\n",
      "Epoch [0/1], Step [244000/277524], d_loss: 1.5567, g_loss: 1.0725, D(x): 0.39, D(G(z)): 0.46\n",
      "Epoch [0/1], Step [245000/277524], d_loss: 1.1565, g_loss: 0.6151, D(x): 0.64, D(G(z)): 0.51\n",
      "Epoch [0/1], Step [246000/277524], d_loss: 1.5442, g_loss: 0.7443, D(x): 0.59, D(G(z)): 0.64\n",
      "Epoch [0/1], Step [247000/277524], d_loss: 1.4952, g_loss: 0.6123, D(x): 0.57, D(G(z)): 0.61\n",
      "Epoch [0/1], Step [248000/277524], d_loss: 1.2697, g_loss: 0.3699, D(x): 0.49, D(G(z)): 0.43\n",
      "Epoch [0/1], Step [249000/277524], d_loss: 0.9251, g_loss: 1.1169, D(x): 0.64, D(G(z)): 0.38\n",
      "Epoch [0/1], Step [250000/277524], d_loss: 1.1564, g_loss: 0.6786, D(x): 0.51, D(G(z)): 0.38\n",
      "Epoch [0/1], Step [251000/277524], d_loss: 1.6012, g_loss: 0.6373, D(x): 0.37, D(G(z)): 0.45\n",
      "Epoch [0/1], Step [252000/277524], d_loss: 1.6774, g_loss: 0.6418, D(x): 0.40, D(G(z)): 0.53\n",
      "Epoch [0/1], Step [253000/277524], d_loss: 1.3396, g_loss: 0.8007, D(x): 0.49, D(G(z)): 0.46\n",
      "Epoch [0/1], Step [254000/277524], d_loss: 1.3222, g_loss: 0.4922, D(x): 0.44, D(G(z)): 0.40\n",
      "Epoch [0/1], Step [255000/277524], d_loss: 1.2493, g_loss: 0.5281, D(x): 0.55, D(G(z)): 0.48\n",
      "Epoch [0/1], Step [256000/277524], d_loss: 1.2986, g_loss: 0.6617, D(x): 0.51, D(G(z)): 0.46\n",
      "Epoch [0/1], Step [257000/277524], d_loss: 1.2362, g_loss: 1.4420, D(x): 0.69, D(G(z)): 0.58\n",
      "Epoch [0/1], Step [258000/277524], d_loss: 1.9201, g_loss: 0.7206, D(x): 0.34, D(G(z)): 0.56\n",
      "Epoch [0/1], Step [259000/277524], d_loss: 1.4807, g_loss: 0.7504, D(x): 0.52, D(G(z)): 0.56\n",
      "Epoch [0/1], Step [260000/277524], d_loss: 1.3173, g_loss: 0.6703, D(x): 0.54, D(G(z)): 0.50\n",
      "Epoch [0/1], Step [261000/277524], d_loss: 1.2891, g_loss: 0.3383, D(x): 0.61, D(G(z)): 0.55\n",
      "Epoch [0/1], Step [262000/277524], d_loss: 1.1720, g_loss: 0.5992, D(x): 0.65, D(G(z)): 0.52\n"
     ]
    }
   ],
   "source": [
    "for epoch in range(num_epochs):\n",
    "    \n",
    "    for i in range(0,len(data_loader)):\n",
    "        \n",
    "        images = images.reshape(batch_size, -1).to(device)\n",
    "        \n",
    "        # Create the labels which are later used as input for the BCE loss\n",
    "        real_labels = torch.ones(batch_size, 1).to(device)\n",
    "        fake_labels = torch.zeros(batch_size, 1).to(device)\n",
    "\n",
    "        # ================================================================== #\n",
    "        #                      Train the discriminator                       #\n",
    "        # ================================================================== #\n",
    "\n",
    "        # Compute BCE_Loss using real images where BCE_Loss(x, y): - y * log(D(x)) - (1-y) * log(1 - D(x))\n",
    "        \n",
    "        outputs = D(images)\n",
    "\n",
    "        # Second term of the loss is always zero since real_labels == 1\n",
    "        # This is what causes it to minimize the loss for real images\n",
    "        d_loss_real = bce_loss(outputs, real_labels)\n",
    "        real_score = outputs\n",
    "        \n",
    "        # Compute BCELoss using fake images\n",
    "        \n",
    "        z = torch.randn(batch_size, latent_size).to(device)\n",
    "        fake_images = G(z)\n",
    "        \n",
    "        outputs = D(fake_images)\n",
    "\n",
    "        # First term of the loss is always zero since fake_labels == 0\n",
    "        # This is what causes it to maximize the loss for fake images\n",
    "        d_loss_fake = bce_loss(outputs, fake_labels)\n",
    "        fake_score = outputs\n",
    "        \n",
    "        # Backprop and optimize\n",
    "        d_loss = d_loss_real + d_loss_fake\n",
    "        \n",
    "        d_optimizer.zero_grad()\n",
    "        g_optimizer.zero_grad()\n",
    "        \n",
    "        d_loss.backward()\n",
    "        d_optimizer.step()\n",
    "        \n",
    "        # ================================================================== #\n",
    "        #                        Train the generator                         #\n",
    "        # ================================================================== #\n",
    "\n",
    "        # Compute loss with fake images\n",
    "        \n",
    "        z = torch.randn(batch_size, latent_size).to(device)\n",
    "        fake_images = G(z)\n",
    "        outputs = D(fake_images)\n",
    "        \n",
    "        # We train G to maximize log(D(G(z)) instead of minimizing log(1-D(G(z)))\n",
    "        # For the reason, see the last paragraph of section 3. https://arxiv.org/pdf/1406.2661.pdf\n",
    "        \n",
    "        g_loss = bce_loss(outputs, real_labels)\n",
    "        \n",
    "        # Backprop and optimize\n",
    "        d_optimizer.zero_grad()\n",
    "        g_optimizer.zero_grad()\n",
    "\n",
    "        g_loss.backward()\n",
    "        g_optimizer.step()\n",
    "        \n",
    "        if (i+1) % 1000 == 0:\n",
    "            print('Epoch [{}/{}], Step [{}/{}], d_loss: {:.4f}, g_loss: {:.4f}, D(x): {:.2f}, D(G(z)): {:.2f}' \n",
    "                  .format(epoch, num_epochs, i+1, total_step, d_loss.item(), g_loss.item(), \n",
    "                          real_score.mean().item(), fake_score.mean().item()))\n",
    "    \n",
    "    fake_images = fake_images.reshape(fake_images.size(0), 3, 50, 50)\n",
    "    # Save real images\n",
    "    if (epoch+1) == 1:\n",
    "        images = images.reshape(images.size(0), 3, 50, 50)\n",
    "        save_image(denorm(images), os.path.join(sample_dir, 'real_images.png'))\n",
    "    \n",
    "    # Save sampled images\n",
    "    fake_images = fake_images.reshape(fake_images.size(0), 3, 50, 50)\n",
    "    save_image(denorm(fake_images), os.path.join(sample_dir, 'fake_images-{}.png'.format(epoch+1)))\n",
    "\n",
    "# Save the model checkpoints \n",
    "torch.save(G.state_dict(), 'G.ckpt')\n",
    "torch.save(D.state_dict(), 'D.ckpt')"
   ]
  },
  {
   "cell_type": "markdown",
   "metadata": {},
   "source": [
    "## Visualize Results"
   ]
  },
  {
   "cell_type": "code",
   "execution_count": 80,
   "metadata": {},
   "outputs": [
    {
     "data": {
      "text/plain": [
       "tensor([[[[ 0.8021,  0.5387,  0.5786,  ..., -0.1229,  0.0216,  0.2727],\n",
       "          [ 0.4456,  0.4173,  0.2826,  ...,  0.2703, -0.0586,  0.0940],\n",
       "          [ 0.3286,  0.4389,  0.3919,  ...,  0.2907,  0.3445,  0.1927],\n",
       "          ...,\n",
       "          [ 0.0623,  0.0128,  0.3254,  ...,  0.5883,  0.4063,  0.5534],\n",
       "          [ 0.4502,  0.1783,  0.3752,  ...,  0.3633,  0.3077,  0.4792],\n",
       "          [ 0.2313,  0.2049,  0.1589,  ...,  0.2358,  0.6545,  0.2755]],\n",
       "\n",
       "         [[ 0.6989,  0.3322,  0.4090,  ..., -0.4056, -0.3495, -0.0618],\n",
       "          [ 0.1586,  0.1344, -0.0076,  ..., -0.1233, -0.3825, -0.3002],\n",
       "          [-0.0533,  0.0898, -0.0763,  ..., -0.0439, -0.0933, -0.1898],\n",
       "          ...,\n",
       "          [-0.3315, -0.2942, -0.0169,  ...,  0.3053,  0.0111,  0.2753],\n",
       "          [ 0.0677, -0.1997, -0.0053,  ...,  0.0344, -0.3195, -0.2755],\n",
       "          [-0.0969, -0.0436, -0.1045,  ..., -0.1061,  0.3880, -0.0194]],\n",
       "\n",
       "         [[ 0.7884,  0.5124,  0.6022,  ...,  0.0358,  0.0080,  0.3203],\n",
       "          [ 0.4493,  0.4740,  0.3653,  ...,  0.2812,  0.0915,  0.1141],\n",
       "          [ 0.2655,  0.4233,  0.3680,  ...,  0.2608,  0.2840,  0.2120],\n",
       "          ...,\n",
       "          [ 0.1174,  0.1071,  0.3223,  ...,  0.5947,  0.3336,  0.5379],\n",
       "          [ 0.4031,  0.1744,  0.3305,  ...,  0.4255, -0.0300,  0.0781],\n",
       "          [ 0.2876,  0.3302,  0.2381,  ...,  0.2472,  0.6075,  0.2789]]]],\n",
       "       grad_fn=<ViewBackward>)"
      ]
     },
     "execution_count": 80,
     "metadata": {},
     "output_type": "execute_result"
    }
   ],
   "source": [
    "fake_images"
   ]
  },
  {
   "cell_type": "code",
   "execution_count": 81,
   "metadata": {},
   "outputs": [],
   "source": [
    "fake_images = fake_images.reshape(fake_images.size(0), 3, 50, 50)\n",
    "save_image(denorm(fake_images), os.path.join(sample_dir, 'fake_images-main.png'.format(epoch+1)))"
   ]
  },
  {
   "cell_type": "code",
   "execution_count": 82,
   "metadata": {},
   "outputs": [],
   "source": [
    "img = torchvision.utils.make_grid(fake_images)"
   ]
  },
  {
   "cell_type": "code",
   "execution_count": 83,
   "metadata": {},
   "outputs": [],
   "source": [
    "img = img.detach().cpu().numpy()\n",
    "img = img.clip(0,1)"
   ]
  },
  {
   "cell_type": "code",
   "execution_count": 84,
   "metadata": {
    "scrolled": true
   },
   "outputs": [
    {
     "data": {
      "image/png": "[encoded data removed]",
      "text/plain": [
       "<Figure size 864x720 with 1 Axes>"
      ]
     },
     "metadata": {},
     "output_type": "display_data"
    }
   ],
   "source": [
    "plt.figure(figsize = (12, 10))\n",
    "plt.imshow(np.transpose(img, (1, 2, 0)))\n",
    "plt.axis('off')\n",
    "plt.show()"
   ]
  },
  {
   "cell_type": "code",
   "execution_count": null,
   "metadata": {},
   "outputs": [],
   "source": []
  },
  {
   "cell_type": "code",
   "execution_count": null,
   "metadata": {},
   "outputs": [],
   "source": []
  }
 ],
 "metadata": {
  "kernelspec": {
   "display_name": "conda_amazonei_mxnet_p27",
   "language": "python",
   "name": "conda_amazonei_mxnet_p27"
  },
  "language_info": {
   "codemirror_mode": {
    "name": "ipython",
    "version": 2
   },
   "file_extension": ".py",
   "mimetype": "text/x-python",
   "name": "python",
   "nbconvert_exporter": "python",
   "pygments_lexer": "ipython2",
   "version": "2.7.15"
  }
 },
 "nbformat": 4,
 "nbformat_minor": 2
}
