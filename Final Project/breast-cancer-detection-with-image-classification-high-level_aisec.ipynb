{
 "cells": [
  {
   "cell_type": "code",
   "execution_count": 26,
   "metadata": {},
   "outputs": [],
   "source": [
    "import time\n",
    "import boto3\n",
    "import sagemaker\n",
    "import json\n",
    "import numpy as np\n",
    "from sagemaker import get_execution_role\n",
    "from sagemaker.amazon.amazon_estimator import get_image_uri\n",
    "from sagemaker.tuner import IntegerParameter, CategoricalParameter, ContinuousParameter, HyperparameterTuner\n",
    "from sagemaker.model import Model\n",
    "from sagemaker.predictor import RealTimePredictor"
   ]
  },
  {
   "cell_type": "markdown",
   "metadata": {},
   "source": [
    "# Configuring the built-in Image Classification algorithm"
   ]
  },
  {
   "cell_type": "markdown",
   "metadata": {},
   "source": [
    "## Configure Hyperparameters"
   ]
  },
  {
   "cell_type": "code",
   "execution_count": 27,
   "metadata": {},
   "outputs": [],
   "source": [
    "# Number of output classes\n",
    "num_classes = 2\n",
    "\n",
    "# Number of training samples in the training set\n",
    "num_training_samples = 194266\n",
    "\n",
    "# Number of layers for the underlying neural network\n",
    "num_layers = 18\n",
    "\n",
    "# Batch size for training\n",
    "mini_batch_size =  128\n",
    "\n",
    "# Input image shape for the training data\n",
    "image_shape = '3,50,50'\n",
    "\n",
    "# Augmentation type\n",
    "augmentation_type = 'crop_color_transform'\n",
    "\n",
    "# Number of epochs\n",
    "epochs = 5\n",
    "\n",
    "# Learning rate\n",
    "learning_rate = 0.01\n",
    "\n",
    "# Enable transfer learning\n",
    "use_pretrained_model = 1"
   ]
  },
  {
   "cell_type": "markdown",
   "metadata": {},
   "source": [
    "## Create a unique job name "
   ]
  },
  {
   "cell_type": "code",
   "execution_count": 28,
   "metadata": {},
   "outputs": [],
   "source": [
    "job_name_prefix = 'breast-cancer-detection'\n",
    "timestamp = time.strftime('-%Y-%m-%d-%H-%M-%S', time.gmtime())\n",
    "job_name = job_name_prefix + timestamp"
   ]
  },
  {
   "cell_type": "markdown",
   "metadata": {},
   "source": [
    "## Specify the input paths for the job"
   ]
  },
  {
   "cell_type": "code",
   "execution_count": 29,
   "metadata": {},
   "outputs": [],
   "source": [
    "bucket = 'nitinproject1'\n",
    "input_prefix = 'breast-cancer-detection/input/recordio'\n",
    "input_train = 's3://{}/{}/train/'.format(bucket, input_prefix)\n",
    "input_test = 's3://{}/{}/test/'.format(bucket, input_prefix)"
   ]
  },
  {
   "cell_type": "markdown",
   "metadata": {},
   "source": [
    "## Specify the output path for the job"
   ]
  },
  {
   "cell_type": "code",
   "execution_count": 30,
   "metadata": {},
   "outputs": [],
   "source": [
    "output_prefix = 'breast-cancer-detection/output'\n",
    "output_path = 's3://{}/{}/'.format(bucket, output_prefix)"
   ]
  },
  {
   "cell_type": "markdown",
   "metadata": {},
   "source": [
    "## Configure training instances"
   ]
  },
  {
   "cell_type": "code",
   "execution_count": 31,
   "metadata": {},
   "outputs": [],
   "source": [
    "instance_count = 1\n",
    "instance_type = 'ml.p2.xlarge'\n",
    "volume_size_gb = 50"
   ]
  },
  {
   "cell_type": "markdown",
   "metadata": {},
   "source": [
    "## Get the execution role and the training image URI for Image Classification"
   ]
  },
  {
   "cell_type": "code",
   "execution_count": 32,
   "metadata": {},
   "outputs": [],
   "source": [
    "role = get_execution_role()\n",
    "training_image = get_image_uri(boto3.Session().region_name, 'image-classification')"
   ]
  },
  {
   "cell_type": "markdown",
   "metadata": {},
   "source": [
    "## Configure train timeout"
   ]
  },
  {
   "cell_type": "code",
   "execution_count": 33,
   "metadata": {},
   "outputs": [],
   "source": [
    "train_timeout = 360000"
   ]
  },
  {
   "cell_type": "markdown",
   "metadata": {},
   "source": [
    "## Creating an Estimator"
   ]
  },
  {
   "cell_type": "code",
   "execution_count": 34,
   "metadata": {},
   "outputs": [],
   "source": [
    "sagemaker_session = sagemaker.Session()\n",
    "estimator = sagemaker.estimator.Estimator(training_image, \n",
    "                                          role, \n",
    "                                          train_instance_count=instance_count,\n",
    "                                          train_instance_type=instance_type,\n",
    "                                          train_volume_size=volume_size_gb,\n",
    "                                          train_max_run=train_timeout,\n",
    "                                          output_path=output_path, \n",
    "                                          sagemaker_session=sagemaker_session,\n",
    "                                          input_mode='Pipe')"
   ]
  },
  {
   "cell_type": "code",
   "execution_count": 35,
   "metadata": {},
   "outputs": [],
   "source": [
    "estimator.set_hyperparameters(num_classes=num_classes,\n",
    "                              num_training_samples=num_training_samples,\n",
    "                              num_layers=num_layers,\n",
    "                              mini_batch_size=mini_batch_size,\n",
    "                              image_shape=image_shape,\n",
    "                              augmentation_type=augmentation_type,\n",
    "                              epochs=epochs,\n",
    "                              learning_rate=learning_rate,\n",
    "                              use_pretrained_model=use_pretrained_model)"
   ]
  },
  {
   "cell_type": "markdown",
   "metadata": {},
   "source": [
    "# Create a training job"
   ]
  },
  {
   "cell_type": "code",
   "execution_count": 36,
   "metadata": {},
   "outputs": [],
   "source": [
    "s3_input_train = sagemaker.s3_input(s3_data=input_train, content_type='application/x-recordio')\n",
    "s3_input_validation = sagemaker.s3_input(s3_data=input_test, content_type='application/x-recordio')"
   ]
  },
  {
   "cell_type": "code",
   "execution_count": null,
   "metadata": {},
   "outputs": [
    {
     "name": "stdout",
     "output_type": "stream",
     "text": [
      "2019-06-13 14:10:43 Starting - Starting the training job...\n",
      "2019-06-13 14:10:45 Starting - Launching requested ML instances......\n",
      "2019-06-13 14:11:49 Starting - Preparing the instances for training.........\n",
      "2019-06-13 14:13:15 Downloading - Downloading input data...\n",
      "2019-06-13 14:13:49 Training - Downloading the training image.....\n",
      "\u001b[31mDocker entrypoint called with argument(s): train\u001b[0m\n",
      "\u001b[31m[06/13/2019 14:14:53 INFO 139767644493632] Reading default configuration from /opt/amazon/lib/python2.7/site-packages/image_classification/default-input.json: {u'beta_1': 0.9, u'gamma': 0.9, u'beta_2': 0.999, u'optimizer': u'sgd', u'use_pretrained_model': 0, u'eps': 1e-08, u'epochs': 30, u'lr_scheduler_factor': 0.1, u'num_layers': 152, u'image_shape': u'3,224,224', u'precision_dtype': u'float32', u'mini_batch_size': 32, u'weight_decay': 0.0001, u'learning_rate': 0.1, u'momentum': 0}\u001b[0m\n",
      "\u001b[31m[06/13/2019 14:14:53 INFO 139767644493632] Reading provided configuration from /opt/ml/input/config/hyperparameters.json: {u'learning_rate': u'0.01', u'use_pretrained_model': u'1', u'epochs': u'5', u'augmentation_type': u'crop_color_transform', u'num_layers': u'18', u'mini_batch_size': u'128', u'image_shape': u'3,50,50', u'num_classes': u'2', u'num_training_samples': u'194266'}\u001b[0m\n",
      "\u001b[31m[06/13/2019 14:14:53 INFO 139767644493632] Final configuration: {u'optimizer': u'sgd', u'learning_rate': u'0.01', u'epochs': u'5', u'lr_scheduler_factor': 0.1, u'num_layers': u'18', u'num_classes': u'2', u'precision_dtype': u'float32', u'mini_batch_size': u'128', u'augmentation_type': u'crop_color_transform', u'beta_1': 0.9, u'beta_2': 0.999, u'use_pretrained_model': u'1', u'eps': 1e-08, u'weight_decay': 0.0001, u'momentum': 0, u'image_shape': u'3,50,50', u'gamma': 0.9, u'num_training_samples': u'194266'}\u001b[0m\n",
      "\u001b[31m[06/13/2019 14:14:53 INFO 139767644493632] use_pretrained_model: 1\u001b[0m\n",
      "\u001b[31m[06/13/2019 14:14:53 INFO 139767644493632] multi_label: 0\u001b[0m\n",
      "\u001b[31m[06/13/2019 14:14:53 INFO 139767644493632] Using pretrained model for initializing weights and transfer learning.\u001b[0m\n",
      "\u001b[31m[06/13/2019 14:14:53 INFO 139767644493632] ---- Parameters ----\u001b[0m\n",
      "\u001b[31m[06/13/2019 14:14:53 INFO 139767644493632] num_layers: 18\u001b[0m\n",
      "\u001b[31m[06/13/2019 14:14:53 INFO 139767644493632] data type: <type 'numpy.float32'>\u001b[0m\n",
      "\u001b[31m[06/13/2019 14:14:53 INFO 139767644493632] epochs: 5\u001b[0m\n",
      "\u001b[31m[06/13/2019 14:14:53 INFO 139767644493632] optimizer: sgd\u001b[0m\n",
      "\u001b[31m[06/13/2019 14:14:53 INFO 139767644493632] momentum: 0.9\u001b[0m\n",
      "\u001b[31m[06/13/2019 14:14:53 INFO 139767644493632] weight_decay: 0.0001\u001b[0m\n",
      "\u001b[31m[06/13/2019 14:14:53 INFO 139767644493632] learning_rate: 0.01\u001b[0m\n",
      "\u001b[31m[06/13/2019 14:14:53 INFO 139767644493632] num_training_samples: 194266\u001b[0m\n",
      "\u001b[31m[06/13/2019 14:14:53 INFO 139767644493632] mini_batch_size: 128\u001b[0m\n",
      "\u001b[31m[06/13/2019 14:14:53 INFO 139767644493632] image_shape: 3,50,50\u001b[0m\n",
      "\u001b[31m[06/13/2019 14:14:53 INFO 139767644493632] num_classes: 2\u001b[0m\n",
      "\u001b[31m[06/13/2019 14:14:53 INFO 139767644493632] augmentation_type: crop_color_transform\u001b[0m\n",
      "\u001b[31m[06/13/2019 14:14:53 INFO 139767644493632] kv_store: device\u001b[0m\n",
      "\u001b[31m[06/13/2019 14:14:53 INFO 139767644493632] checkpoint_frequency not set, will store the best model\u001b[0m\n",
      "\u001b[31m[06/13/2019 14:14:53 INFO 139767644493632] --------------------\u001b[0m\n",
      "\u001b[31m[14:14:53] /opt/brazil-pkg-cache/packages/MXNetECL/MXNetECL-master.883.0/AL2012/generic-flavor/src/src/nnvm/legacy_json_util.cc:209: Loading symbol saved by previous version v0.8.0. Attempting to upgrade...\u001b[0m\n",
      "\u001b[31m[14:14:53] /opt/brazil-pkg-cache/packages/MXNetECL/MXNetECL-master.883.0/AL2012/generic-flavor/src/src/nnvm/legacy_json_util.cc:217: Symbol successfully upgraded!\u001b[0m\n",
      "\u001b[31m[06/13/2019 14:14:53 INFO 139767644493632] Setting number of threads: 3\u001b[0m\n",
      "\u001b[31m[14:14:58] /opt/brazil-pkg-cache/packages/MXNetECL/MXNetECL-master.883.0/AL2012/generic-flavor/src/src/operator/nn/./cudnn/./cudnn_algoreg-inl.h:97: Running performance tests to find the best convolution algorithm, this can take a while... (setting env variable MXNET_CUDNN_AUTOTUNE_DEFAULT to 0 to disable)\u001b[0m\n",
      "\n",
      "2019-06-13 14:14:49 Training - Training image download completed. Training in progress.\u001b[31m[06/13/2019 14:15:03 INFO 139767644493632] Epoch[0] Batch [20]#011Speed: 439.621 samples/sec#011accuracy=0.737723\u001b[0m\n",
      "\u001b[31m[06/13/2019 14:15:06 INFO 139767644493632] Epoch[0] Batch [40]#011Speed: 600.301 samples/sec#011accuracy=0.770198\u001b[0m\n",
      "\u001b[31m[06/13/2019 14:15:09 INFO 139767644493632] Epoch[0] Batch [60]#011Speed: 685.683 samples/sec#011accuracy=0.790727\u001b[0m\n",
      "\u001b[31m[06/13/2019 14:15:11 INFO 139767644493632] Epoch[0] Batch [80]#011Speed: 736.340 samples/sec#011accuracy=0.791956\u001b[0m\n",
      "\u001b[31m[06/13/2019 14:15:14 INFO 139767644493632] Epoch[0] Batch [100]#011Speed: 770.696 samples/sec#011accuracy=0.795715\u001b[0m\n",
      "\u001b[31m[06/13/2019 14:15:17 INFO 139767644493632] Epoch[0] Batch [120]#011Speed: 796.711 samples/sec#011accuracy=0.799910\u001b[0m\n",
      "\u001b[31m[06/13/2019 14:15:19 INFO 139767644493632] Epoch[0] Batch [140]#011Speed: 816.592 samples/sec#011accuracy=0.804078\u001b[0m\n",
      "\u001b[31m[06/13/2019 14:15:22 INFO 139767644493632] Epoch[0] Batch [160]#011Speed: 831.358 samples/sec#011accuracy=0.808278\u001b[0m\n",
      "\u001b[31m[06/13/2019 14:15:25 INFO 139767644493632] Epoch[0] Batch [180]#011Speed: 844.264 samples/sec#011accuracy=0.811766\u001b[0m\n",
      "\u001b[31m[06/13/2019 14:15:28 INFO 139767644493632] Epoch[0] Batch [200]#011Speed: 854.237 samples/sec#011accuracy=0.813472\u001b[0m\n",
      "\u001b[31m[06/13/2019 14:15:30 INFO 139767644493632] Epoch[0] Batch [220]#011Speed: 861.596 samples/sec#011accuracy=0.815010\u001b[0m\n",
      "\u001b[31m[06/13/2019 14:15:33 INFO 139767644493632] Epoch[0] Batch [240]#011Speed: 868.389 samples/sec#011accuracy=0.818303\u001b[0m\n",
      "\u001b[31m[06/13/2019 14:15:36 INFO 139767644493632] Epoch[0] Batch [260]#011Speed: 874.348 samples/sec#011accuracy=0.819145\u001b[0m\n",
      "\u001b[31m[06/13/2019 14:15:38 INFO 139767644493632] Epoch[0] Batch [280]#011Speed: 879.273 samples/sec#011accuracy=0.820340\u001b[0m\n",
      "\u001b[31m[06/13/2019 14:15:41 INFO 139767644493632] Epoch[0] Batch [300]#011Speed: 884.045 samples/sec#011accuracy=0.820832\u001b[0m\n",
      "\u001b[31m[06/13/2019 14:15:44 INFO 139767644493632] Epoch[0] Batch [320]#011Speed: 888.325 samples/sec#011accuracy=0.822430\u001b[0m\n",
      "\u001b[31m[06/13/2019 14:15:46 INFO 139767644493632] Epoch[0] Batch [340]#011Speed: 891.485 samples/sec#011accuracy=0.823520\u001b[0m\n",
      "\u001b[31m[06/13/2019 14:15:49 INFO 139767644493632] Epoch[0] Batch [360]#011Speed: 895.030 samples/sec#011accuracy=0.824013\u001b[0m\n",
      "\u001b[31m[06/13/2019 14:15:52 INFO 139767644493632] Epoch[0] Batch [380]#011Speed: 897.601 samples/sec#011accuracy=0.824085\u001b[0m\n",
      "\u001b[31m[06/13/2019 14:15:54 INFO 139767644493632] Epoch[0] Batch [400]#011Speed: 899.922 samples/sec#011accuracy=0.825144\u001b[0m\n",
      "\u001b[31m[06/13/2019 14:15:57 INFO 139767644493632] Epoch[0] Batch [420]#011Speed: 902.020 samples/sec#011accuracy=0.826251\u001b[0m\n",
      "\u001b[31m[06/13/2019 14:16:00 INFO 139767644493632] Epoch[0] Batch [440]#011Speed: 904.230 samples/sec#011accuracy=0.826655\u001b[0m\n",
      "\u001b[31m[06/13/2019 14:16:03 INFO 139767644493632] Epoch[0] Batch [460]#011Speed: 906.286 samples/sec#011accuracy=0.826871\u001b[0m\n",
      "\u001b[31m[06/13/2019 14:16:05 INFO 139767644493632] Epoch[0] Batch [480]#011Speed: 908.258 samples/sec#011accuracy=0.827232\u001b[0m\n",
      "\u001b[31m[06/13/2019 14:16:08 INFO 139767644493632] Epoch[0] Batch [500]#011Speed: 909.891 samples/sec#011accuracy=0.827626\u001b[0m\n",
      "\u001b[31m[06/13/2019 14:16:11 INFO 139767644493632] Epoch[0] Batch [520]#011Speed: 911.287 samples/sec#011accuracy=0.828725\u001b[0m\n",
      "\u001b[31m[06/13/2019 14:16:13 INFO 139767644493632] Epoch[0] Batch [540]#011Speed: 913.147 samples/sec#011accuracy=0.829006\u001b[0m\n",
      "\u001b[31m[06/13/2019 14:16:16 INFO 139767644493632] Epoch[0] Batch [560]#011Speed: 914.537 samples/sec#011accuracy=0.829880\u001b[0m\n",
      "\u001b[31m[06/13/2019 14:16:19 INFO 139767644493632] Epoch[0] Batch [580]#011Speed: 916.147 samples/sec#011accuracy=0.830021\u001b[0m\n",
      "\u001b[31m[06/13/2019 14:16:21 INFO 139767644493632] Epoch[0] Batch [600]#011Speed: 917.584 samples/sec#011accuracy=0.830439\u001b[0m\n",
      "\u001b[31m[06/13/2019 14:16:24 INFO 139767644493632] Epoch[0] Batch [620]#011Speed: 918.969 samples/sec#011accuracy=0.830452\u001b[0m\n",
      "\u001b[31m[06/13/2019 14:16:27 INFO 139767644493632] Epoch[0] Batch [640]#011Speed: 919.659 samples/sec#011accuracy=0.830709\u001b[0m\n",
      "\u001b[31m[06/13/2019 14:16:29 INFO 139767644493632] Epoch[0] Batch [660]#011Speed: 920.583 samples/sec#011accuracy=0.830938\u001b[0m\n",
      "\u001b[31m[06/13/2019 14:16:32 INFO 139767644493632] Epoch[0] Batch [680]#011Speed: 921.268 samples/sec#011accuracy=0.831016\u001b[0m\n",
      "\u001b[31m[06/13/2019 14:16:35 INFO 139767644493632] Epoch[0] Batch [700]#011Speed: 922.271 samples/sec#011accuracy=0.831168\u001b[0m\n",
      "\u001b[31m[06/13/2019 14:16:37 INFO 139767644493632] Epoch[0] Batch [720]#011Speed: 923.545 samples/sec#011accuracy=0.831235\u001b[0m\n",
      "\u001b[31m[06/13/2019 14:16:40 INFO 139767644493632] Epoch[0] Batch [740]#011Speed: 924.343 samples/sec#011accuracy=0.831836\u001b[0m\n",
      "\u001b[31m[06/13/2019 14:16:43 INFO 139767644493632] Epoch[0] Batch [760]#011Speed: 925.350 samples/sec#011accuracy=0.832252\u001b[0m\n",
      "\u001b[31m[06/13/2019 14:16:45 INFO 139767644493632] Epoch[0] Batch [780]#011Speed: 926.100 samples/sec#011accuracy=0.832726\u001b[0m\n",
      "\u001b[31m[06/13/2019 14:16:48 INFO 139767644493632] Epoch[0] Batch [800]#011Speed: 926.622 samples/sec#011accuracy=0.833060\u001b[0m\n",
      "\u001b[31m[06/13/2019 14:16:51 INFO 139767644493632] Epoch[0] Batch [820]#011Speed: 927.256 samples/sec#011accuracy=0.833178\u001b[0m\n",
      "\u001b[31m[06/13/2019 14:16:53 INFO 139767644493632] Epoch[0] Batch [840]#011Speed: 927.999 samples/sec#011accuracy=0.833327\u001b[0m\n",
      "\u001b[31m[06/13/2019 14:16:56 INFO 139767644493632] Epoch[0] Batch [860]#011Speed: 928.701 samples/sec#011accuracy=0.833615\u001b[0m\n",
      "\u001b[31m[06/13/2019 14:16:59 INFO 139767644493632] Epoch[0] Batch [880]#011Speed: 929.259 samples/sec#011accuracy=0.834093\u001b[0m\n",
      "\u001b[31m[06/13/2019 14:17:01 INFO 139767644493632] Epoch[0] Batch [900]#011Speed: 930.124 samples/sec#011accuracy=0.833943\u001b[0m\n",
      "\u001b[31m[06/13/2019 14:17:04 INFO 139767644493632] Epoch[0] Batch [920]#011Speed: 930.530 samples/sec#011accuracy=0.834377\u001b[0m\n",
      "\u001b[31m[06/13/2019 14:17:07 INFO 139767644493632] Epoch[0] Batch [940]#011Speed: 930.921 samples/sec#011accuracy=0.834476\u001b[0m\n",
      "\u001b[31m[06/13/2019 14:17:09 INFO 139767644493632] Epoch[0] Batch [960]#011Speed: 931.307 samples/sec#011accuracy=0.834385\u001b[0m\n",
      "\u001b[31m[06/13/2019 14:17:12 INFO 139767644493632] Epoch[0] Batch [980]#011Speed: 931.580 samples/sec#011accuracy=0.834496\u001b[0m\n",
      "\u001b[31m[06/13/2019 14:17:15 INFO 139767644493632] Epoch[0] Batch [1000]#011Speed: 931.729 samples/sec#011accuracy=0.834689\u001b[0m\n",
      "\u001b[31m[06/13/2019 14:17:18 INFO 139767644493632] Epoch[0] Batch [1020]#011Speed: 932.204 samples/sec#011accuracy=0.834231\u001b[0m\n",
      "\u001b[31m[06/13/2019 14:17:20 INFO 139767644493632] Epoch[0] Batch [1040]#011Speed: 932.733 samples/sec#011accuracy=0.834196\u001b[0m\n",
      "\u001b[31m[06/13/2019 14:17:23 INFO 139767644493632] Epoch[0] Batch [1060]#011Speed: 933.168 samples/sec#011accuracy=0.834214\u001b[0m\n",
      "\u001b[31m[06/13/2019 14:17:26 INFO 139767644493632] Epoch[0] Batch [1080]#011Speed: 933.767 samples/sec#011accuracy=0.834203\u001b[0m\n",
      "\u001b[31m[06/13/2019 14:17:28 INFO 139767644493632] Epoch[0] Batch [1100]#011Speed: 934.080 samples/sec#011accuracy=0.834249\u001b[0m\n",
      "\u001b[31m[06/13/2019 14:17:31 INFO 139767644493632] Epoch[0] Batch [1120]#011Speed: 934.293 samples/sec#011accuracy=0.834474\u001b[0m\n",
      "\u001b[31m[06/13/2019 14:17:34 INFO 139767644493632] Epoch[0] Batch [1140]#011Speed: 934.477 samples/sec#011accuracy=0.834472\u001b[0m\n",
      "\u001b[31m[06/13/2019 14:17:36 INFO 139767644493632] Epoch[0] Batch [1160]#011Speed: 934.840 samples/sec#011accuracy=0.834174\u001b[0m\n",
      "\u001b[31m[06/13/2019 14:17:39 INFO 139767644493632] Epoch[0] Batch [1180]#011Speed: 935.226 samples/sec#011accuracy=0.834184\u001b[0m\n",
      "\u001b[31m[06/13/2019 14:17:42 INFO 139767644493632] Epoch[0] Batch [1200]#011Speed: 935.569 samples/sec#011accuracy=0.834077\u001b[0m\n",
      "\u001b[31m[06/13/2019 14:17:44 INFO 139767644493632] Epoch[0] Batch [1220]#011Speed: 936.075 samples/sec#011accuracy=0.834223\u001b[0m\n",
      "\u001b[31m[06/13/2019 14:17:47 INFO 139767644493632] Epoch[0] Batch [1240]#011Speed: 936.442 samples/sec#011accuracy=0.833986\u001b[0m\n",
      "\u001b[31m[06/13/2019 14:17:50 INFO 139767644493632] Epoch[0] Batch [1260]#011Speed: 936.851 samples/sec#011accuracy=0.834351\u001b[0m\n",
      "\u001b[31m[06/13/2019 14:17:52 INFO 139767644493632] Epoch[0] Batch [1280]#011Speed: 937.100 samples/sec#011accuracy=0.834559\u001b[0m\n",
      "\u001b[31m[06/13/2019 14:17:55 INFO 139767644493632] Epoch[0] Batch [1300]#011Speed: 937.480 samples/sec#011accuracy=0.834508\u001b[0m\n",
      "\u001b[31m[06/13/2019 14:17:58 INFO 139767644493632] Epoch[0] Batch [1320]#011Speed: 937.773 samples/sec#011accuracy=0.834542\u001b[0m\n",
      "\u001b[31m[06/13/2019 14:18:00 INFO 139767644493632] Epoch[0] Batch [1340]#011Speed: 938.018 samples/sec#011accuracy=0.834697\u001b[0m\n",
      "\u001b[31m[06/13/2019 14:18:03 INFO 139767644493632] Epoch[0] Batch [1360]#011Speed: 937.118 samples/sec#011accuracy=0.834858\u001b[0m\n",
      "\u001b[31m[06/13/2019 14:18:06 INFO 139767644493632] Epoch[0] Batch [1380]#011Speed: 937.490 samples/sec#011accuracy=0.835055\u001b[0m\n",
      "\u001b[31m[06/13/2019 14:18:09 INFO 139767644493632] Epoch[0] Batch [1400]#011Speed: 937.789 samples/sec#011accuracy=0.835201\u001b[0m\n",
      "\u001b[31m[06/13/2019 14:18:11 INFO 139767644493632] Epoch[0] Batch [1420]#011Speed: 938.074 samples/sec#011accuracy=0.835228\u001b[0m\n",
      "\u001b[31m[06/13/2019 14:18:14 INFO 139767644493632] Epoch[0] Batch [1440]#011Speed: 938.323 samples/sec#011accuracy=0.835260\u001b[0m\n",
      "\u001b[31m[06/13/2019 14:18:17 INFO 139767644493632] Epoch[0] Batch [1460]#011Speed: 938.718 samples/sec#011accuracy=0.835280\u001b[0m\n",
      "\u001b[31m[06/13/2019 14:18:19 INFO 139767644493632] Epoch[0] Batch [1480]#011Speed: 939.013 samples/sec#011accuracy=0.835014\u001b[0m\n",
      "\u001b[31m[06/13/2019 14:18:22 INFO 139767644493632] Epoch[0] Batch [1500]#011Speed: 939.388 samples/sec#011accuracy=0.834792\u001b[0m\n",
      "\u001b[31m[06/13/2019 14:18:24 INFO 139767644493632] Epoch[0] Train-accuracy=0.834727\u001b[0m\n",
      "\u001b[31m[06/13/2019 14:18:24 INFO 139767644493632] Epoch[0] Time cost=206.499\u001b[0m\n",
      "\u001b[31m[06/13/2019 14:18:59 INFO 139767644493632] Epoch[0] Validation-accuracy=0.825749\u001b[0m\n",
      "\u001b[31m[06/13/2019 14:18:59 INFO 139767644493632] Storing the best model with validation accuracy: 0.825749\u001b[0m\n",
      "\u001b[31m[06/13/2019 14:18:59 INFO 139767644493632] Saved checkpoint to \"/opt/ml/model/image-classification-0001.params\"\u001b[0m\n",
      "\u001b[31m[06/13/2019 14:19:02 INFO 139767644493632] Epoch[1] Batch [20]#011Speed: 867.764 samples/sec#011accuracy=0.829613\u001b[0m\n",
      "\u001b[31m[06/13/2019 14:19:05 INFO 139767644493632] Epoch[1] Batch [40]#011Speed: 902.684 samples/sec#011accuracy=0.829268\u001b[0m\n",
      "\u001b[31m[06/13/2019 14:19:07 INFO 139767644493632] Epoch[1] Batch [60]#011Speed: 916.875 samples/sec#011accuracy=0.833888\u001b[0m\n",
      "\u001b[31m[06/13/2019 14:19:10 INFO 139767644493632] Epoch[1] Batch [80]#011Speed: 924.194 samples/sec#011accuracy=0.829765\u001b[0m\n",
      "\u001b[31m[06/13/2019 14:19:13 INFO 139767644493632] Epoch[1] Batch [100]#011Speed: 930.649 samples/sec#011accuracy=0.823329\u001b[0m\n",
      "\u001b[31m[06/13/2019 14:19:16 INFO 139767644493632] Epoch[1] Batch [120]#011Speed: 933.903 samples/sec#011accuracy=0.821152\u001b[0m\n",
      "\u001b[31m[06/13/2019 14:19:18 INFO 139767644493632] Epoch[1] Batch [140]#011Speed: 934.995 samples/sec#011accuracy=0.823748\u001b[0m\n",
      "\u001b[31m[06/13/2019 14:19:21 INFO 139767644493632] Epoch[1] Batch [160]#011Speed: 936.959 samples/sec#011accuracy=0.825359\u001b[0m\n",
      "\u001b[31m[06/13/2019 14:19:24 INFO 139767644493632] Epoch[1] Batch [180]#011Speed: 938.402 samples/sec#011accuracy=0.826571\u001b[0m\n",
      "\u001b[31m[06/13/2019 14:19:26 INFO 139767644493632] Epoch[1] Batch [200]#011Speed: 940.226 samples/sec#011accuracy=0.826842\u001b[0m\n",
      "\u001b[31m[06/13/2019 14:19:29 INFO 139767644493632] Epoch[1] Batch [220]#011Speed: 941.204 samples/sec#011accuracy=0.826145\u001b[0m\n",
      "\u001b[31m[06/13/2019 14:19:32 INFO 139767644493632] Epoch[1] Batch [240]#011Speed: 942.288 samples/sec#011accuracy=0.825532\u001b[0m\n",
      "\u001b[31m[06/13/2019 14:19:34 INFO 139767644493632] Epoch[1] Batch [260]#011Speed: 942.360 samples/sec#011accuracy=0.824892\u001b[0m\n",
      "\u001b[31m[06/13/2019 14:19:37 INFO 139767644493632] Epoch[1] Batch [280]#011Speed: 943.042 samples/sec#011accuracy=0.824650\u001b[0m\n",
      "\u001b[31m[06/13/2019 14:19:40 INFO 139767644493632] Epoch[1] Batch [300]#011Speed: 943.414 samples/sec#011accuracy=0.824387\u001b[0m\n",
      "\u001b[31m[06/13/2019 14:19:42 INFO 139767644493632] Epoch[1] Batch [320]#011Speed: 943.773 samples/sec#011accuracy=0.824499\u001b[0m\n",
      "\u001b[31m[06/13/2019 14:19:45 INFO 139767644493632] Epoch[1] Batch [340]#011Speed: 944.245 samples/sec#011accuracy=0.825032\u001b[0m\n",
      "\u001b[31m[06/13/2019 14:19:48 INFO 139767644493632] Epoch[1] Batch [360]#011Speed: 945.709 samples/sec#011accuracy=0.825333\u001b[0m\n",
      "\u001b[31m[06/13/2019 14:19:50 INFO 139767644493632] Epoch[1] Batch [380]#011Speed: 946.098 samples/sec#011accuracy=0.825152\u001b[0m\n",
      "\u001b[31m[06/13/2019 14:19:53 INFO 139767644493632] Epoch[1] Batch [400]#011Speed: 946.149 samples/sec#011accuracy=0.825105\u001b[0m\n",
      "\u001b[31m[06/13/2019 14:19:56 INFO 139767644493632] Epoch[1] Batch [420]#011Speed: 946.328 samples/sec#011accuracy=0.825564\u001b[0m\n",
      "\u001b[31m[06/13/2019 14:19:59 INFO 139767644493632] Epoch[1] Batch [440]#011Speed: 946.478 samples/sec#011accuracy=0.825875\u001b[0m\n",
      "\u001b[31m[06/13/2019 14:20:01 INFO 139767644493632] Epoch[1] Batch [460]#011Speed: 946.265 samples/sec#011accuracy=0.826041\u001b[0m\n",
      "\u001b[31m[06/13/2019 14:20:04 INFO 139767644493632] Epoch[1] Batch [480]#011Speed: 946.269 samples/sec#011accuracy=0.826176\u001b[0m\n",
      "\u001b[31m[06/13/2019 14:20:07 INFO 139767644493632] Epoch[1] Batch [500]#011Speed: 946.133 samples/sec#011accuracy=0.826347\u001b[0m\n",
      "\u001b[31m[06/13/2019 14:20:09 INFO 139767644493632] Epoch[1] Batch [520]#011Speed: 946.359 samples/sec#011accuracy=0.827255\u001b[0m\n",
      "\u001b[31m[06/13/2019 14:20:12 INFO 139767644493632] Epoch[1] Batch [540]#011Speed: 946.958 samples/sec#011accuracy=0.827533\u001b[0m\n",
      "\u001b[31m[06/13/2019 14:20:15 INFO 139767644493632] Epoch[1] Batch [560]#011Speed: 947.049 samples/sec#011accuracy=0.827846\u001b[0m\n",
      "\u001b[31m[06/13/2019 14:20:17 INFO 139767644493632] Epoch[1] Batch [580]#011Speed: 947.010 samples/sec#011accuracy=0.828071\u001b[0m\n",
      "\u001b[31m[06/13/2019 14:20:20 INFO 139767644493632] Epoch[1] Batch [600]#011Speed: 946.987 samples/sec#011accuracy=0.828463\u001b[0m\n",
      "\u001b[31m[06/13/2019 14:20:23 INFO 139767644493632] Epoch[1] Batch [620]#011Speed: 946.907 samples/sec#011accuracy=0.828477\u001b[0m\n",
      "\u001b[31m[06/13/2019 14:20:26 INFO 139767644493632] Epoch[1] Batch [640]#011Speed: 946.815 samples/sec#011accuracy=0.828966\u001b[0m\n",
      "\u001b[31m[06/13/2019 14:20:28 INFO 139767644493632] Epoch[1] Batch [660]#011Speed: 946.803 samples/sec#011accuracy=0.829425\u001b[0m\n",
      "\u001b[31m[06/13/2019 14:20:31 INFO 139767644493632] Epoch[1] Batch [680]#011Speed: 946.689 samples/sec#011accuracy=0.829467\u001b[0m\n",
      "\u001b[31m[06/13/2019 14:20:34 INFO 139767644493632] Epoch[1] Batch [700]#011Speed: 946.570 samples/sec#011accuracy=0.829507\u001b[0m\n",
      "\u001b[31m[06/13/2019 14:20:36 INFO 139767644493632] Epoch[1] Batch [720]#011Speed: 947.114 samples/sec#011accuracy=0.829479\u001b[0m\n",
      "\u001b[31m[06/13/2019 14:20:39 INFO 139767644493632] Epoch[1] Batch [740]#011Speed: 946.903 samples/sec#011accuracy=0.829844\u001b[0m\n",
      "\u001b[31m[06/13/2019 14:20:42 INFO 139767644493632] Epoch[1] Batch [760]#011Speed: 947.029 samples/sec#011accuracy=0.830158\u001b[0m\n",
      "\u001b[31m[06/13/2019 14:20:45 INFO 139767644493632] Epoch[1] Batch [780]#011Speed: 946.989 samples/sec#011accuracy=0.830316\u001b[0m\n",
      "\u001b[31m[06/13/2019 14:20:47 INFO 139767644493632] Epoch[1] Batch [800]#011Speed: 947.115 samples/sec#011accuracy=0.830632\u001b[0m\n",
      "\u001b[31m[06/13/2019 14:20:50 INFO 139767644493632] Epoch[1] Batch [820]#011Speed: 947.281 samples/sec#011accuracy=0.830552\u001b[0m\n",
      "\u001b[31m[06/13/2019 14:20:53 INFO 139767644493632] Epoch[1] Batch [840]#011Speed: 947.237 samples/sec#011accuracy=0.830568\u001b[0m\n",
      "\u001b[31m[06/13/2019 14:20:55 INFO 139767644493632] Epoch[1] Batch [860]#011Speed: 947.363 samples/sec#011accuracy=0.830684\u001b[0m\n",
      "\u001b[31m[06/13/2019 14:20:58 INFO 139767644493632] Epoch[1] Batch [880]#011Speed: 947.473 samples/sec#011accuracy=0.830173\u001b[0m\n",
      "\u001b[31m[06/13/2019 14:21:01 INFO 139767644493632] Epoch[1] Batch [900]#011Speed: 947.716 samples/sec#011accuracy=0.829929\u001b[0m\n",
      "\u001b[31m[06/13/2019 14:21:03 INFO 139767644493632] Epoch[1] Batch [920]#011Speed: 948.028 samples/sec#011accuracy=0.830000\u001b[0m\n",
      "\u001b[31m[06/13/2019 14:21:06 INFO 139767644493632] Epoch[1] Batch [940]#011Speed: 947.971 samples/sec#011accuracy=0.829960\u001b[0m\n",
      "\u001b[31m[06/13/2019 14:21:09 INFO 139767644493632] Epoch[1] Batch [960]#011Speed: 947.978 samples/sec#011accuracy=0.830003\u001b[0m\n",
      "\u001b[31m[06/13/2019 14:21:11 INFO 139767644493632] Epoch[1] Batch [980]#011Speed: 947.848 samples/sec#011accuracy=0.830259\u001b[0m\n",
      "\u001b[31m[06/13/2019 14:21:14 INFO 139767644493632] Epoch[1] Batch [1000]#011Speed: 947.771 samples/sec#011accuracy=0.830381\u001b[0m\n",
      "\u001b[31m[06/13/2019 14:21:17 INFO 139767644493632] Epoch[1] Batch [1020]#011Speed: 947.656 samples/sec#011accuracy=0.830183\u001b[0m\n",
      "\u001b[31m[06/13/2019 14:21:20 INFO 139767644493632] Epoch[1] Batch [1040]#011Speed: 947.605 samples/sec#011accuracy=0.830069\u001b[0m\n",
      "\u001b[31m[06/13/2019 14:21:22 INFO 139767644493632] Epoch[1] Batch [1060]#011Speed: 947.840 samples/sec#011accuracy=0.830113\u001b[0m\n",
      "\u001b[31m[06/13/2019 14:21:25 INFO 139767644493632] Epoch[1] Batch [1080]#011Speed: 947.633 samples/sec#011accuracy=0.830185\u001b[0m\n",
      "\u001b[31m[06/13/2019 14:21:28 INFO 139767644493632] Epoch[1] Batch [1100]#011Speed: 947.649 samples/sec#011accuracy=0.830268\u001b[0m\n",
      "\u001b[31m[06/13/2019 14:21:30 INFO 139767644493632] Epoch[1] Batch [1120]#011Speed: 947.847 samples/sec#011accuracy=0.830543\u001b[0m\n",
      "\u001b[31m[06/13/2019 14:21:33 INFO 139767644493632] Epoch[1] Batch [1140]#011Speed: 947.743 samples/sec#011accuracy=0.830508\u001b[0m\n",
      "\u001b[31m[06/13/2019 14:21:36 INFO 139767644493632] Epoch[1] Batch [1160]#011Speed: 947.628 samples/sec#011accuracy=0.830238\u001b[0m\n",
      "\u001b[31m[06/13/2019 14:21:38 INFO 139767644493632] Epoch[1] Batch [1180]#011Speed: 947.684 samples/sec#011accuracy=0.830017\u001b[0m\n",
      "\u001b[31m[06/13/2019 14:21:41 INFO 139767644493632] Epoch[1] Batch [1200]#011Speed: 947.959 samples/sec#011accuracy=0.830024\u001b[0m\n",
      "\u001b[31m[06/13/2019 14:21:44 INFO 139767644493632] Epoch[1] Batch [1220]#011Speed: 948.216 samples/sec#011accuracy=0.830339\u001b[0m\n",
      "\u001b[31m[06/13/2019 14:21:46 INFO 139767644493632] Epoch[1] Batch [1240]#011Speed: 948.377 samples/sec#011accuracy=0.830234\u001b[0m\n",
      "\u001b[31m[06/13/2019 14:21:49 INFO 139767644493632] Epoch[1] Batch [1260]#011Speed: 948.571 samples/sec#011accuracy=0.830560\u001b[0m\n",
      "\u001b[31m[06/13/2019 14:21:52 INFO 139767644493632] Epoch[1] Batch [1280]#011Speed: 948.494 samples/sec#011accuracy=0.830723\u001b[0m\n",
      "\u001b[31m[06/13/2019 14:21:55 INFO 139767644493632] Epoch[1] Batch [1300]#011Speed: 948.521 samples/sec#011accuracy=0.830725\u001b[0m\n",
      "\u001b[31m[06/13/2019 14:21:57 INFO 139767644493632] Epoch[1] Batch [1320]#011Speed: 948.695 samples/sec#011accuracy=0.830987\u001b[0m\n",
      "\u001b[31m[06/13/2019 14:22:00 INFO 139767644493632] Epoch[1] Batch [1340]#011Speed: 948.628 samples/sec#011accuracy=0.831213\u001b[0m\n",
      "\u001b[31m[06/13/2019 14:22:03 INFO 139767644493632] Epoch[1] Batch [1360]#011Speed: 947.824 samples/sec#011accuracy=0.831489\u001b[0m\n",
      "\u001b[31m[06/13/2019 14:22:05 INFO 139767644493632] Epoch[1] Batch [1380]#011Speed: 947.990 samples/sec#011accuracy=0.831819\u001b[0m\n",
      "\u001b[31m[06/13/2019 14:22:08 INFO 139767644493632] Epoch[1] Batch [1400]#011Speed: 948.245 samples/sec#011accuracy=0.831973\u001b[0m\n",
      "\u001b[31m[06/13/2019 14:22:11 INFO 139767644493632] Epoch[1] Batch [1420]#011Speed: 948.396 samples/sec#011accuracy=0.831952\u001b[0m\n",
      "\u001b[31m[06/13/2019 14:22:13 INFO 139767644493632] Epoch[1] Batch [1440]#011Speed: 948.589 samples/sec#011accuracy=0.832207\u001b[0m\n",
      "\u001b[31m[06/13/2019 14:22:16 INFO 139767644493632] Epoch[1] Batch [1460]#011Speed: 948.790 samples/sec#011accuracy=0.832317\u001b[0m\n",
      "\u001b[31m[06/13/2019 14:22:19 INFO 139767644493632] Epoch[1] Batch [1480]#011Speed: 948.941 samples/sec#011accuracy=0.832261\u001b[0m\n",
      "\u001b[31m[06/13/2019 14:22:21 INFO 139767644493632] Epoch[1] Batch [1500]#011Speed: 949.059 samples/sec#011accuracy=0.832325\u001b[0m\n",
      "\u001b[31m[06/13/2019 14:22:24 INFO 139767644493632] Epoch[1] Train-accuracy=0.832441\u001b[0m\n",
      "\u001b[31m[06/13/2019 14:22:24 INFO 139767644493632] Epoch[1] Time cost=204.420\u001b[0m\n",
      "\u001b[31m[06/13/2019 14:22:58 INFO 139767644493632] Epoch[1] Validation-accuracy=0.818656\u001b[0m\n",
      "\u001b[31m[06/13/2019 14:23:01 INFO 139767644493632] Epoch[2] Batch [20]#011Speed: 858.634 samples/sec#011accuracy=0.843750\u001b[0m\n",
      "\u001b[31m[06/13/2019 14:23:04 INFO 139767644493632] Epoch[2] Batch [40]#011Speed: 899.342 samples/sec#011accuracy=0.849276\u001b[0m\n",
      "\u001b[31m[06/13/2019 14:23:06 INFO 139767644493632] Epoch[2] Batch [60]#011Speed: 915.487 samples/sec#011accuracy=0.850154\u001b[0m\n",
      "\u001b[31m[06/13/2019 14:23:09 INFO 139767644493632] Epoch[2] Batch [80]#011Speed: 925.054 samples/sec#011accuracy=0.849151\u001b[0m\n",
      "\u001b[31m[06/13/2019 14:23:12 INFO 139767644493632] Epoch[2] Batch [100]#011Speed: 930.647 samples/sec#011accuracy=0.846225\u001b[0m\n",
      "\u001b[31m[06/13/2019 14:23:14 INFO 139767644493632] Epoch[2] Batch [120]#011Speed: 934.804 samples/sec#011accuracy=0.845945\u001b[0m\n",
      "\u001b[31m[06/13/2019 14:23:17 INFO 139767644493632] Epoch[2] Batch [140]#011Speed: 936.779 samples/sec#011accuracy=0.844803\u001b[0m\n",
      "\u001b[31m[06/13/2019 14:23:20 INFO 139767644493632] Epoch[2] Batch [160]#011Speed: 937.716 samples/sec#011accuracy=0.844866\u001b[0m\n",
      "\u001b[31m[06/13/2019 14:23:22 INFO 139767644493632] Epoch[2] Batch [180]#011Speed: 938.996 samples/sec#011accuracy=0.844656\u001b[0m\n",
      "\u001b[31m[06/13/2019 14:23:25 INFO 139767644493632] Epoch[2] Batch [200]#011Speed: 940.597 samples/sec#011accuracy=0.844100\u001b[0m\n",
      "\u001b[31m[06/13/2019 14:23:28 INFO 139767644493632] Epoch[2] Batch [220]#011Speed: 941.525 samples/sec#011accuracy=0.842336\u001b[0m\n",
      "\u001b[31m[06/13/2019 14:23:30 INFO 139767644493632] Epoch[2] Batch [240]#011Speed: 942.115 samples/sec#011accuracy=0.844139\u001b[0m\n",
      "\u001b[31m[06/13/2019 14:23:33 INFO 139767644493632] Epoch[2] Batch [260]#011Speed: 942.652 samples/sec#011accuracy=0.843750\u001b[0m\n",
      "\u001b[31m[06/13/2019 14:23:36 INFO 139767644493632] Epoch[2] Batch [280]#011Speed: 943.570 samples/sec#011accuracy=0.844306\u001b[0m\n",
      "\u001b[31m[06/13/2019 14:23:39 INFO 139767644493632] Epoch[2] Batch [300]#011Speed: 943.341 samples/sec#011accuracy=0.844269\u001b[0m\n",
      "\u001b[31m[06/13/2019 14:23:41 INFO 139767644493632] Epoch[2] Batch [320]#011Speed: 943.589 samples/sec#011accuracy=0.844870\u001b[0m\n",
      "\u001b[31m[06/13/2019 14:23:44 INFO 139767644493632] Epoch[2] Batch [340]#011Speed: 944.711 samples/sec#011accuracy=0.845377\u001b[0m\n",
      "\u001b[31m[06/13/2019 14:23:47 INFO 139767644493632] Epoch[2] Batch [360]#011Speed: 945.283 samples/sec#011accuracy=0.844984\u001b[0m\n",
      "\u001b[31m[06/13/2019 14:23:49 INFO 139767644493632] Epoch[2] Batch [380]#011Speed: 945.468 samples/sec#011accuracy=0.844714\u001b[0m\n",
      "\u001b[31m[06/13/2019 14:23:52 INFO 139767644493632] Epoch[2] Batch [400]#011Speed: 945.967 samples/sec#011accuracy=0.845016\u001b[0m\n",
      "\u001b[31m[06/13/2019 14:23:55 INFO 139767644493632] Epoch[2] Batch [420]#011Speed: 946.226 samples/sec#011accuracy=0.845123\u001b[0m\n",
      "\u001b[31m[06/13/2019 14:23:57 INFO 139767644493632] Epoch[2] Batch [440]#011Speed: 946.588 samples/sec#011accuracy=0.845274\u001b[0m\n",
      "\u001b[31m[06/13/2019 14:24:00 INFO 139767644493632] Epoch[2] Batch [460]#011Speed: 947.069 samples/sec#011accuracy=0.844919\u001b[0m\n",
      "\u001b[31m[06/13/2019 14:24:03 INFO 139767644493632] Epoch[2] Batch [480]#011Speed: 947.451 samples/sec#011accuracy=0.844790\u001b[0m\n",
      "\u001b[31m[06/13/2019 14:24:05 INFO 139767644493632] Epoch[2] Batch [500]#011Speed: 947.532 samples/sec#011accuracy=0.844717\u001b[0m\n",
      "\u001b[31m[06/13/2019 14:24:08 INFO 139767644493632] Epoch[2] Batch [520]#011Speed: 947.269 samples/sec#011accuracy=0.845220\u001b[0m\n",
      "\u001b[31m[06/13/2019 14:24:11 INFO 139767644493632] Epoch[2] Batch [540]#011Speed: 947.735 samples/sec#011accuracy=0.845107\u001b[0m\n",
      "\u001b[31m[06/13/2019 14:24:14 INFO 139767644493632] Epoch[2] Batch [560]#011Speed: 947.596 samples/sec#011accuracy=0.845519\u001b[0m\n",
      "\u001b[31m[06/13/2019 14:24:16 INFO 139767644493632] Epoch[2] Batch [580]#011Speed: 947.751 samples/sec#011accuracy=0.845727\u001b[0m\n",
      "\u001b[31m[06/13/2019 14:24:40 INFO 139767644493632] Epoch[2] Batch [760]#011Speed: 949.652 samples/sec#011accuracy=0.846758\u001b[0m\n",
      "\u001b[31m[06/13/2019 14:24:43 INFO 139767644493632] Epoch[2] Batch [780]#011Speed: 949.847 samples/sec#011accuracy=0.846911\u001b[0m\n",
      "\u001b[31m[06/13/2019 14:24:46 INFO 139767644493632] Epoch[2] Batch [800]#011Speed: 949.984 samples/sec#011accuracy=0.846969\u001b[0m\n",
      "\u001b[31m[06/13/2019 14:24:48 INFO 139767644493632] Epoch[2] Batch [820]#011Speed: 950.073 samples/sec#011accuracy=0.846890\u001b[0m\n",
      "\u001b[31m[06/13/2019 14:24:51 INFO 139767644493632] Epoch[2] Batch [840]#011Speed: 950.106 samples/sec#011accuracy=0.846834\u001b[0m\n",
      "\u001b[31m[06/13/2019 14:24:54 INFO 139767644493632] Epoch[2] Batch [860]#011Speed: 950.407 samples/sec#011accuracy=0.846862\u001b[0m\n",
      "\u001b[31m[06/13/2019 14:24:56 INFO 139767644493632] Epoch[2] Batch [880]#011Speed: 950.622 samples/sec#011accuracy=0.847049\u001b[0m\n",
      "\u001b[31m[06/13/2019 14:24:59 INFO 139767644493632] Epoch[2] Batch [900]#011Speed: 950.893 samples/sec#011accuracy=0.847080\u001b[0m\n",
      "\u001b[31m[06/13/2019 14:25:02 INFO 139767644493632] Epoch[2] Batch [920]#011Speed: 950.843 samples/sec#011accuracy=0.847211\u001b[0m\n",
      "\u001b[31m[06/13/2019 14:25:04 INFO 139767644493632] Epoch[2] Batch [940]#011Speed: 950.832 samples/sec#011accuracy=0.847370\u001b[0m\n",
      "\u001b[31m[06/13/2019 14:25:07 INFO 139767644493632] Epoch[2] Batch [960]#011Speed: 950.868 samples/sec#011accuracy=0.847425\u001b[0m\n",
      "\u001b[31m[06/13/2019 14:25:10 INFO 139767644493632] Epoch[2] Batch [980]#011Speed: 950.828 samples/sec#011accuracy=0.847764\u001b[0m\n",
      "\u001b[31m[06/13/2019 14:25:12 INFO 139767644493632] Epoch[2] Batch [1000]#011Speed: 950.949 samples/sec#011accuracy=0.847808\u001b[0m\n",
      "\u001b[31m[06/13/2019 14:25:15 INFO 139767644493632] Epoch[2] Batch [1020]#011Speed: 951.019 samples/sec#011accuracy=0.847645\u001b[0m\n",
      "\u001b[31m[06/13/2019 14:25:18 INFO 139767644493632] Epoch[2] Batch [1040]#011Speed: 950.918 samples/sec#011accuracy=0.847683\u001b[0m\n",
      "\u001b[31m[06/13/2019 14:25:21 INFO 139767644493632] Epoch[2] Batch [1060]#011Speed: 951.047 samples/sec#011accuracy=0.847800\u001b[0m\n",
      "\u001b[31m[06/13/2019 14:25:23 INFO 139767644493632] Epoch[2] Batch [1080]#011Speed: 951.097 samples/sec#011accuracy=0.847920\u001b[0m\n",
      "\u001b[31m[06/13/2019 14:25:26 INFO 139767644493632] Epoch[2] Batch [1100]#011Speed: 951.151 samples/sec#011accuracy=0.847873\u001b[0m\n",
      "\u001b[31m[06/13/2019 14:25:29 INFO 139767644493632] Epoch[2] Batch [1120]#011Speed: 951.060 samples/sec#011accuracy=0.848182\u001b[0m\n",
      "\u001b[31m[06/13/2019 14:25:31 INFO 139767644493632] Epoch[2] Batch [1140]#011Speed: 951.036 samples/sec#011accuracy=0.847756\u001b[0m\n",
      "\u001b[31m[06/13/2019 14:25:34 INFO 139767644493632] Epoch[2] Batch [1160]#011Speed: 951.072 samples/sec#011accuracy=0.847431\u001b[0m\n",
      "\u001b[31m[06/13/2019 14:25:37 INFO 139767644493632] Epoch[2] Batch [1180]#011Speed: 951.102 samples/sec#011accuracy=0.847309\u001b[0m\n",
      "\u001b[31m[06/13/2019 14:25:39 INFO 139767644493632] Epoch[2] Batch [1200]#011Speed: 951.359 samples/sec#011accuracy=0.847334\u001b[0m\n",
      "\u001b[31m[06/13/2019 14:25:42 INFO 139767644493632] Epoch[2] Batch [1220]#011Speed: 951.551 samples/sec#011accuracy=0.847512\u001b[0m\n",
      "\u001b[31m[06/13/2019 14:25:45 INFO 139767644493632] Epoch[2] Batch [1240]#011Speed: 951.654 samples/sec#011accuracy=0.847389\u001b[0m\n",
      "\u001b[31m[06/13/2019 14:25:47 INFO 139767644493632] Epoch[2] Batch [1260]#011Speed: 951.683 samples/sec#011accuracy=0.847579\u001b[0m\n",
      "\u001b[31m[06/13/2019 14:25:50 INFO 139767644493632] Epoch[2] Batch [1280]#011Speed: 951.834 samples/sec#011accuracy=0.847708\u001b[0m\n",
      "\u001b[31m[06/13/2019 14:25:53 INFO 139767644493632] Epoch[2] Batch [1300]#011Speed: 951.808 samples/sec#011accuracy=0.847737\u001b[0m\n",
      "\u001b[31m[06/13/2019 14:25:55 INFO 139767644493632] Epoch[2] Batch [1320]#011Speed: 952.017 samples/sec#011accuracy=0.847884\u001b[0m\n",
      "\u001b[31m[06/13/2019 14:25:58 INFO 139767644493632] Epoch[2] Batch [1340]#011Speed: 952.134 samples/sec#011accuracy=0.847945\u001b[0m\n",
      "\u001b[31m[06/13/2019 14:26:01 INFO 139767644493632] Epoch[2] Batch [1360]#011Speed: 951.581 samples/sec#011accuracy=0.848038\u001b[0m\n",
      "\u001b[31m[06/13/2019 14:26:03 INFO 139767644493632] Epoch[2] Batch [1380]#011Speed: 951.690 samples/sec#011accuracy=0.848202\u001b[0m\n",
      "\u001b[31m[06/13/2019 14:26:06 INFO 139767644493632] Epoch[2] Batch [1400]#011Speed: 951.740 samples/sec#011accuracy=0.848323\u001b[0m\n",
      "\u001b[31m[06/13/2019 14:26:09 INFO 139767644493632] Epoch[2] Batch [1420]#011Speed: 951.895 samples/sec#011accuracy=0.848390\u001b[0m\n",
      "\u001b[31m[06/13/2019 14:26:11 INFO 139767644493632] Epoch[2] Batch [1440]#011Speed: 952.004 samples/sec#011accuracy=0.848413\u001b[0m\n",
      "\u001b[31m[06/13/2019 14:26:14 INFO 139767644493632] Epoch[2] Batch [1460]#011Speed: 952.235 samples/sec#011accuracy=0.848504\u001b[0m\n",
      "\u001b[31m[06/13/2019 14:26:17 INFO 139767644493632] Epoch[2] Batch [1480]#011Speed: 952.360 samples/sec#011accuracy=0.848550\u001b[0m\n",
      "\u001b[31m[06/13/2019 14:26:19 INFO 139767644493632] Epoch[2] Batch [1500]#011Speed: 952.503 samples/sec#011accuracy=0.848450\u001b[0m\n",
      "\u001b[31m[06/13/2019 14:26:22 INFO 139767644493632] Epoch[2] Train-accuracy=0.848648\u001b[0m\n",
      "\u001b[31m[06/13/2019 14:26:22 INFO 139767644493632] Epoch[2] Time cost=203.709\u001b[0m\n",
      "\u001b[31m[06/13/2019 14:26:56 INFO 139767644493632] Epoch[2] Validation-accuracy=0.849582\u001b[0m\n",
      "\u001b[31m[06/13/2019 14:26:56 INFO 139767644493632] Storing the best model with validation accuracy: 0.849582\u001b[0m\n",
      "\u001b[31m[06/13/2019 14:26:56 INFO 139767644493632] Saved checkpoint to \"/opt/ml/model/image-classification-0003.params\"\u001b[0m\n",
      "\u001b[31m[06/13/2019 14:26:59 INFO 139767644493632] Epoch[3] Batch [20]#011Speed: 824.090 samples/sec#011accuracy=0.854911\u001b[0m\n",
      "\u001b[31m[06/13/2019 14:27:02 INFO 139767644493632] Epoch[3] Batch [40]#011Speed: 877.689 samples/sec#011accuracy=0.854421\u001b[0m\n",
      "\u001b[31m[06/13/2019 14:27:04 INFO 139767644493632] Epoch[3] Batch [60]#011Speed: 897.791 samples/sec#011accuracy=0.857454\u001b[0m\n",
      "\u001b[31m[06/13/2019 14:27:07 INFO 139767644493632] Epoch[3] Batch [80]#011Speed: 910.284 samples/sec#011accuracy=0.853202\u001b[0m\n",
      "\u001b[31m[06/13/2019 14:27:10 INFO 139767644493632] Epoch[3] Batch [100]#011Speed: 916.868 samples/sec#011accuracy=0.851640\u001b[0m\n",
      "\u001b[31m[06/13/2019 14:27:13 INFO 139767644493632] Epoch[3] Batch [120]#011Speed: 921.759 samples/sec#011accuracy=0.851433\u001b[0m\n",
      "\u001b[31m[06/13/2019 14:27:15 INFO 139767644493632] Epoch[3] Batch [140]#011Speed: 925.055 samples/sec#011accuracy=0.853280\u001b[0m\n",
      "\u001b[31m[06/13/2019 14:27:18 INFO 139767644493632] Epoch[3] Batch [160]#011Speed: 926.777 samples/sec#011accuracy=0.854620\u001b[0m\n",
      "\u001b[31m[06/13/2019 14:27:21 INFO 139767644493632] Epoch[3] Batch [180]#011Speed: 929.696 samples/sec#011accuracy=0.854843\u001b[0m\n",
      "\u001b[31m[06/13/2019 14:27:23 INFO 139767644493632] Epoch[3] Batch [200]#011Speed: 933.047 samples/sec#011accuracy=0.854944\u001b[0m\n",
      "\u001b[31m[06/13/2019 14:27:26 INFO 139767644493632] Epoch[3] Batch [220]#011Speed: 934.141 samples/sec#011accuracy=0.854072\u001b[0m\n",
      "\u001b[31m[06/13/2019 14:27:29 INFO 139767644493632] Epoch[3] Batch [240]#011Speed: 935.033 samples/sec#011accuracy=0.854999\u001b[0m\n",
      "\u001b[31m[06/13/2019 14:27:31 INFO 139767644493632] Epoch[3] Batch [260]#011Speed: 936.196 samples/sec#011accuracy=0.854945\u001b[0m\n",
      "\u001b[31m[06/13/2019 14:27:34 INFO 139767644493632] Epoch[3] Batch [280]#011Speed: 936.567 samples/sec#011accuracy=0.855510\u001b[0m\n",
      "\u001b[31m[06/13/2019 14:27:37 INFO 139767644493632] Epoch[3] Batch [300]#011Speed: 937.129 samples/sec#011accuracy=0.855586\u001b[0m\n",
      "\u001b[31m[06/13/2019 14:27:40 INFO 139767644493632] Epoch[3] Batch [320]#011Speed: 937.660 samples/sec#011accuracy=0.855432\u001b[0m\n",
      "\u001b[31m[06/13/2019 14:27:42 INFO 139767644493632] Epoch[3] Batch [340]#011Speed: 937.670 samples/sec#011accuracy=0.855618\u001b[0m\n",
      "\u001b[31m[06/13/2019 14:27:45 INFO 139767644493632] Epoch[3] Batch [360]#011Speed: 938.838 samples/sec#011accuracy=0.855393\u001b[0m\n",
      "\u001b[31m[06/13/2019 14:27:48 INFO 139767644493632] Epoch[3] Batch [380]#011Speed: 939.209 samples/sec#011accuracy=0.855110\u001b[0m\n",
      "\u001b[31m[06/13/2019 14:27:50 INFO 139767644493632] Epoch[3] Batch [400]#011Speed: 939.332 samples/sec#011accuracy=0.855108\u001b[0m\n",
      "\u001b[31m[06/13/2019 14:27:53 INFO 139767644493632] Epoch[3] Batch [420]#011Speed: 939.651 samples/sec#011accuracy=0.855497\u001b[0m\n",
      "\u001b[31m[06/13/2019 14:27:56 INFO 139767644493632] Epoch[3] Batch [440]#011Speed: 940.020 samples/sec#011accuracy=0.855584\u001b[0m\n",
      "\u001b[31m[06/13/2019 14:27:59 INFO 139767644493632] Epoch[3] Batch [460]#011Speed: 939.810 samples/sec#011accuracy=0.855426\u001b[0m\n",
      "\u001b[31m[06/13/2019 14:28:01 INFO 139767644493632] Epoch[3] Batch [480]#011Speed: 940.253 samples/sec#011accuracy=0.855509\u001b[0m\n",
      "\u001b[31m[06/13/2019 14:28:04 INFO 139767644493632] Epoch[3] Batch [500]#011Speed: 940.164 samples/sec#011accuracy=0.855477\u001b[0m\n",
      "\u001b[31m[06/13/2019 14:28:07 INFO 139767644493632] Epoch[3] Batch [520]#011Speed: 940.389 samples/sec#011accuracy=0.856016\u001b[0m\n",
      "\u001b[31m[06/13/2019 14:28:09 INFO 139767644493632] Epoch[3] Batch [540]#011Speed: 941.352 samples/sec#011accuracy=0.856111\u001b[0m\n",
      "\u001b[31m[06/13/2019 14:28:12 INFO 139767644493632] Epoch[3] Batch [560]#011Speed: 941.868 samples/sec#011accuracy=0.856242\u001b[0m\n",
      "\u001b[31m[06/13/2019 14:28:15 INFO 139767644493632] Epoch[3] Batch [580]#011Speed: 941.829 samples/sec#011accuracy=0.856215\u001b[0m\n",
      "\u001b[31m[06/13/2019 14:28:17 INFO 139767644493632] Epoch[3] Batch [600]#011Speed: 941.924 samples/sec#011accuracy=0.856086\u001b[0m\n",
      "\u001b[31m[06/13/2019 14:28:20 INFO 139767644493632] Epoch[3] Batch [620]#011Speed: 941.858 samples/sec#011accuracy=0.855915\u001b[0m\n",
      "\u001b[31m[06/13/2019 14:28:23 INFO 139767644493632] Epoch[3] Batch [640]#011Speed: 942.058 samples/sec#011accuracy=0.856145\u001b[0m\n",
      "\u001b[31m[06/13/2019 14:28:26 INFO 139767644493632] Epoch[3] Batch [660]#011Speed: 942.380 samples/sec#011accuracy=0.856326\u001b[0m\n",
      "\u001b[31m[06/13/2019 14:28:28 INFO 139767644493632] Epoch[3] Batch [680]#011Speed: 942.436 samples/sec#011accuracy=0.855899\u001b[0m\n",
      "\u001b[31m[06/13/2019 14:28:31 INFO 139767644493632] Epoch[3] Batch [700]#011Speed: 942.623 samples/sec#011accuracy=0.855630\u001b[0m\n",
      "\u001b[31m[06/13/2019 14:28:34 INFO 139767644493632] Epoch[3] Batch [720]#011Speed: 943.069 samples/sec#011accuracy=0.855366\u001b[0m\n",
      "\u001b[31m[06/13/2019 14:28:36 INFO 139767644493632] Epoch[3] Batch [740]#011Speed: 943.276 samples/sec#011accuracy=0.855474\u001b[0m\n",
      "\u001b[31m[06/13/2019 14:28:39 INFO 139767644493632] Epoch[3] Batch [760]#011Speed: 943.278 samples/sec#011accuracy=0.855402\u001b[0m\n",
      "\u001b[31m[06/13/2019 14:28:42 INFO 139767644493632] Epoch[3] Batch [780]#011Speed: 943.300 samples/sec#011accuracy=0.855334\u001b[0m\n",
      "\u001b[31m[06/13/2019 14:28:44 INFO 139767644493632] Epoch[3] Batch [800]#011Speed: 943.171 samples/sec#011accuracy=0.855298\u001b[0m\n",
      "\u001b[31m[06/13/2019 14:28:47 INFO 139767644493632] Epoch[3] Batch [820]#011Speed: 943.250 samples/sec#011accuracy=0.855198\u001b[0m\n",
      "\u001b[31m[06/13/2019 14:28:50 INFO 139767644493632] Epoch[3] Batch [840]#011Speed: 943.473 samples/sec#011accuracy=0.855195\u001b[0m\n",
      "\u001b[31m[06/13/2019 14:28:53 INFO 139767644493632] Epoch[3] Batch [860]#011Speed: 943.404 samples/sec#011accuracy=0.855328\u001b[0m\n",
      "\u001b[31m[06/13/2019 14:28:55 INFO 139767644493632] Epoch[3] Batch [880]#011Speed: 943.386 samples/sec#011accuracy=0.855553\u001b[0m\n",
      "\u001b[31m[06/13/2019 14:28:58 INFO 139767644493632] Epoch[3] Batch [900]#011Speed: 943.839 samples/sec#011accuracy=0.855404\u001b[0m\n",
      "\u001b[31m[06/13/2019 14:29:01 INFO 139767644493632] Epoch[3] Batch [920]#011Speed: 943.946 samples/sec#011accuracy=0.855473\u001b[0m\n",
      "\u001b[31m[06/13/2019 14:29:03 INFO 139767644493632] Epoch[3] Batch [940]#011Speed: 943.977 samples/sec#011accuracy=0.855548\u001b[0m\n",
      "\u001b[31m[06/13/2019 14:29:06 INFO 139767644493632] Epoch[3] Batch [960]#011Speed: 944.281 samples/sec#011accuracy=0.855587\u001b[0m\n",
      "\u001b[31m[06/13/2019 14:29:09 INFO 139767644493632] Epoch[3] Batch [980]#011Speed: 944.487 samples/sec#011accuracy=0.855696\u001b[0m\n",
      "\u001b[31m[06/13/2019 14:29:11 INFO 139767644493632] Epoch[3] Batch [1000]#011Speed: 944.452 samples/sec#011accuracy=0.855746\u001b[0m\n",
      "\u001b[31m[06/13/2019 14:29:14 INFO 139767644493632] Epoch[3] Batch [1020]#011Speed: 944.566 samples/sec#011accuracy=0.855549\u001b[0m\n",
      "\u001b[31m[06/13/2019 14:29:17 INFO 139767644493632] Epoch[3] Batch [1040]#011Speed: 944.549 samples/sec#011accuracy=0.855713\u001b[0m\n",
      "\u001b[31m[06/13/2019 14:29:20 INFO 139767644493632] Epoch[3] Batch [1060]#011Speed: 944.475 samples/sec#011accuracy=0.855855\u001b[0m\n",
      "\u001b[31m[06/13/2019 14:29:22 INFO 139767644493632] Epoch[3] Batch [1080]#011Speed: 945.081 samples/sec#011accuracy=0.855855\u001b[0m\n",
      "\u001b[31m[06/13/2019 14:29:25 INFO 139767644493632] Epoch[3] Batch [1100]#011Speed: 945.136 samples/sec#011accuracy=0.855870\u001b[0m\n",
      "\u001b[31m[06/13/2019 14:29:28 INFO 139767644493632] Epoch[3] Batch [1120]#011Speed: 945.300 samples/sec#011accuracy=0.856141\u001b[0m\n",
      "\u001b[31m[06/13/2019 14:29:30 INFO 139767644493632] Epoch[3] Batch [1140]#011Speed: 945.396 samples/sec#011accuracy=0.855999\u001b[0m\n",
      "\u001b[31m[06/13/2019 14:29:33 INFO 139767644493632] Epoch[3] Batch [1160]#011Speed: 945.430 samples/sec#011accuracy=0.855802\u001b[0m\n",
      "\u001b[31m[06/13/2019 14:29:36 INFO 139767644493632] Epoch[3] Batch [1180]#011Speed: 945.774 samples/sec#011accuracy=0.855631\u001b[0m\n",
      "\u001b[31m[06/13/2019 14:29:38 INFO 139767644493632] Epoch[3] Batch [1200]#011Speed: 945.940 samples/sec#011accuracy=0.855693\u001b[0m\n",
      "\u001b[31m[06/13/2019 14:29:41 INFO 139767644493632] Epoch[3] Batch [1220]#011Speed: 946.053 samples/sec#011accuracy=0.855875\u001b[0m\n",
      "\u001b[31m[06/13/2019 14:29:44 INFO 139767644493632] Epoch[3] Batch [1240]#011Speed: 946.408 samples/sec#011accuracy=0.855699\u001b[0m\n",
      "\u001b[31m[06/13/2019 14:29:46 INFO 139767644493632] Epoch[3] Batch [1260]#011Speed: 946.630 samples/sec#011accuracy=0.856091\u001b[0m\n",
      "\u001b[31m[06/13/2019 14:29:49 INFO 139767644493632] Epoch[3] Batch [1280]#011Speed: 946.882 samples/sec#011accuracy=0.856356\u001b[0m\n",
      "\u001b[31m[06/13/2019 14:29:52 INFO 139767644493632] Epoch[3] Batch [1300]#011Speed: 947.062 samples/sec#011accuracy=0.856427\u001b[0m\n",
      "\u001b[31m[06/13/2019 14:29:54 INFO 139767644493632] Epoch[3] Batch [1320]#011Speed: 947.409 samples/sec#011accuracy=0.856448\u001b[0m\n",
      "\u001b[31m[06/13/2019 14:29:57 INFO 139767644493632] Epoch[3] Batch [1340]#011Speed: 947.665 samples/sec#011accuracy=0.856567\u001b[0m\n",
      "\u001b[31m[06/13/2019 14:30:00 INFO 139767644493632] Epoch[3] Batch [1360]#011Speed: 947.002 samples/sec#011accuracy=0.856597\u001b[0m\n",
      "\u001b[31m[06/13/2019 14:30:02 INFO 139767644493632] Epoch[3] Batch [1380]#011Speed: 947.088 samples/sec#011accuracy=0.856778\u001b[0m\n",
      "\u001b[31m[06/13/2019 14:30:05 INFO 139767644493632] Epoch[3] Batch [1400]#011Speed: 947.272 samples/sec#011accuracy=0.856960\u001b[0m\n",
      "\u001b[31m[06/13/2019 14:30:08 INFO 139767644493632] Epoch[3] Batch [1420]#011Speed: 947.456 samples/sec#011accuracy=0.856796\u001b[0m\n",
      "\u001b[31m[06/13/2019 14:30:10 INFO 139767644493632] Epoch[3] Batch [1440]#011Speed: 947.730 samples/sec#011accuracy=0.856838\u001b[0m\n",
      "\u001b[31m[06/13/2019 14:30:13 INFO 139767644493632] Epoch[3] Batch [1460]#011Speed: 947.891 samples/sec#011accuracy=0.856883\u001b[0m\n",
      "\u001b[31m[06/13/2019 14:30:16 INFO 139767644493632] Epoch[3] Batch [1480]#011Speed: 947.985 samples/sec#011accuracy=0.856912\u001b[0m\n",
      "\u001b[31m[06/13/2019 14:30:18 INFO 139767644493632] Epoch[3] Batch [1500]#011Speed: 948.163 samples/sec#011accuracy=0.856871\u001b[0m\n",
      "\u001b[31m[06/13/2019 14:30:20 INFO 139767644493632] Epoch[3] Train-accuracy=0.856924\u001b[0m\n",
      "\u001b[31m[06/13/2019 14:30:20 INFO 139767644493632] Epoch[3] Time cost=204.621\u001b[0m\n",
      "\u001b[31m[06/13/2019 14:30:55 INFO 139767644493632] Epoch[3] Validation-accuracy=0.850926\u001b[0m\n",
      "\u001b[31m[06/13/2019 14:30:55 INFO 139767644493632] Storing the best model with validation accuracy: 0.850926\u001b[0m\n",
      "\u001b[31m[06/13/2019 14:30:55 INFO 139767644493632] Saved checkpoint to \"/opt/ml/model/image-classification-0004.params\"\u001b[0m\n",
      "\u001b[31m[06/13/2019 14:30:58 INFO 139767644493632] Epoch[4] Batch [20]#011Speed: 866.091 samples/sec#011accuracy=0.865699\u001b[0m\n",
      "\u001b[31m[06/13/2019 14:31:01 INFO 139767644493632] Epoch[4] Batch [40]#011Speed: 907.850 samples/sec#011accuracy=0.859947\u001b[0m\n",
      "\u001b[31m[06/13/2019 14:31:03 INFO 139767644493632] Epoch[4] Batch [60]#011Speed: 921.581 samples/sec#011accuracy=0.863089\u001b[0m\n",
      "\u001b[31m[06/13/2019 14:31:06 INFO 139767644493632] Epoch[4] Batch [80]#011Speed: 927.678 samples/sec#011accuracy=0.860436\u001b[0m\n",
      "\u001b[31m[06/13/2019 14:31:09 INFO 139767644493632] Epoch[4] Batch [100]#011Speed: 932.310 samples/sec#011accuracy=0.859066\u001b[0m\n",
      "\u001b[31m[06/13/2019 14:31:11 INFO 139767644493632] Epoch[4] Batch [120]#011Speed: 935.854 samples/sec#011accuracy=0.860021\u001b[0m\n",
      "\u001b[31m[06/13/2019 14:31:14 INFO 139767644493632] Epoch[4] Batch [140]#011Speed: 938.550 samples/sec#011accuracy=0.861093\u001b[0m\n",
      "\u001b[31m[06/13/2019 14:31:17 INFO 139767644493632] Epoch[4] Batch [160]#011Speed: 939.898 samples/sec#011accuracy=0.862723\u001b[0m\n",
      "\u001b[31m[06/13/2019 14:31:19 INFO 139767644493632] Epoch[4] Batch [180]#011Speed: 940.859 samples/sec#011accuracy=0.861317\u001b[0m\n",
      "\u001b[31m[06/13/2019 14:31:22 INFO 139767644493632] Epoch[4] Batch [200]#011Speed: 942.826 samples/sec#011accuracy=0.859958\u001b[0m\n",
      "\u001b[31m[06/13/2019 14:31:25 INFO 139767644493632] Epoch[4] Batch [220]#011Speed: 943.175 samples/sec#011accuracy=0.858951\u001b[0m\n",
      "\u001b[31m[06/13/2019 14:31:28 INFO 139767644493632] Epoch[4] Batch [240]#011Speed: 942.857 samples/sec#011accuracy=0.860121\u001b[0m\n",
      "\u001b[31m[06/13/2019 14:31:30 INFO 139767644493632] Epoch[4] Batch [260]#011Speed: 943.137 samples/sec#011accuracy=0.860034\u001b[0m\n",
      "\u001b[31m[06/13/2019 14:31:33 INFO 139767644493632] Epoch[4] Batch [280]#011Speed: 943.453 samples/sec#011accuracy=0.860515\u001b[0m\n",
      "\u001b[31m[06/13/2019 14:31:36 INFO 139767644493632] Epoch[4] Batch [300]#011Speed: 943.534 samples/sec#011accuracy=0.860335\u001b[0m\n",
      "\u001b[31m[06/13/2019 14:31:38 INFO 139767644493632] Epoch[4] Batch [320]#011Speed: 944.066 samples/sec#011accuracy=0.860324\u001b[0m\n",
      "\u001b[31m[06/13/2019 14:31:41 INFO 139767644493632] Epoch[4] Batch [340]#011Speed: 944.168 samples/sec#011accuracy=0.860566\u001b[0m\n",
      "\u001b[31m[06/13/2019 14:31:44 INFO 139767644493632] Epoch[4] Batch [360]#011Speed: 945.265 samples/sec#011accuracy=0.859829\u001b[0m\n",
      "\u001b[31m[06/13/2019 14:31:46 INFO 139767644493632] Epoch[4] Batch [380]#011Speed: 945.305 samples/sec#011accuracy=0.859765\u001b[0m\n",
      "\u001b[31m[06/13/2019 14:31:49 INFO 139767644493632] Epoch[4] Batch [400]#011Speed: 945.268 samples/sec#011accuracy=0.859940\u001b[0m\n",
      "\u001b[31m[06/13/2019 14:31:52 INFO 139767644493632] Epoch[4] Batch [420]#011Speed: 945.343 samples/sec#011accuracy=0.860229\u001b[0m\n",
      "\u001b[31m[06/13/2019 14:31:54 INFO 139767644493632] Epoch[4] Batch [440]#011Speed: 945.840 samples/sec#011accuracy=0.860225\u001b[0m\n",
      "\u001b[31m[06/13/2019 14:31:57 INFO 139767644493632] Epoch[4] Batch [460]#011Speed: 945.791 samples/sec#011accuracy=0.859934\u001b[0m\n",
      "\u001b[31m[06/13/2019 14:32:00 INFO 139767644493632] Epoch[4] Batch [480]#011Speed: 945.596 samples/sec#011accuracy=0.860041\u001b[0m\n",
      "\u001b[31m[06/13/2019 14:32:03 INFO 139767644493632] Epoch[4] Batch [500]#011Speed: 945.688 samples/sec#011accuracy=0.860124\u001b[0m\n",
      "\u001b[31m[06/13/2019 14:32:05 INFO 139767644493632] Epoch[4] Batch [520]#011Speed: 945.679 samples/sec#011accuracy=0.860530\u001b[0m\n",
      "\u001b[31m[06/13/2019 14:32:08 INFO 139767644493632] Epoch[4] Batch [540]#011Speed: 946.335 samples/sec#011accuracy=0.860458\u001b[0m\n",
      "\u001b[31m[06/13/2019 14:32:11 INFO 139767644493632] Epoch[4] Batch [560]#011Speed: 946.366 samples/sec#011accuracy=0.860600\u001b[0m\n",
      "\u001b[31m[06/13/2019 14:32:13 INFO 139767644493632] Epoch[4] Batch [580]#011Speed: 946.521 samples/sec#011accuracy=0.860652\u001b[0m\n",
      "\u001b[31m[06/13/2019 14:32:16 INFO 139767644493632] Epoch[4] Batch [600]#011Speed: 946.491 samples/sec#011accuracy=0.860597\u001b[0m\n",
      "\u001b[31m[06/13/2019 14:32:19 INFO 139767644493632] Epoch[4] Batch [620]#011Speed: 946.311 samples/sec#011accuracy=0.860507\u001b[0m\n",
      "\u001b[31m[06/13/2019 14:32:21 INFO 139767644493632] Epoch[4] Batch [640]#011Speed: 946.234 samples/sec#011accuracy=0.860569\u001b[0m\n",
      "\u001b[31m[06/13/2019 14:32:24 INFO 139767644493632] Epoch[4] Batch [660]#011Speed: 946.388 samples/sec#011accuracy=0.860900\u001b[0m\n",
      "\u001b[31m[06/13/2019 14:32:27 INFO 139767644493632] Epoch[4] Batch [680]#011Speed: 946.488 samples/sec#011accuracy=0.860637\u001b[0m\n",
      "\u001b[31m[06/13/2019 14:32:30 INFO 139767644493632] Epoch[4] Batch [700]#011Speed: 946.605 samples/sec#011accuracy=0.860200\u001b[0m\n",
      "\u001b[31m[06/13/2019 14:32:32 INFO 139767644493632] Epoch[4] Batch [720]#011Speed: 946.938 samples/sec#011accuracy=0.860177\u001b[0m\n",
      "\u001b[31m[06/13/2019 14:32:35 INFO 139767644493632] Epoch[4] Batch [740]#011Speed: 947.064 samples/sec#011accuracy=0.860398\u001b[0m\n",
      "\u001b[31m[06/13/2019 14:32:38 INFO 139767644493632] Epoch[4] Batch [760]#011Speed: 947.154 samples/sec#011accuracy=0.860391\u001b[0m\n",
      "\u001b[31m[06/13/2019 14:32:40 INFO 139767644493632] Epoch[4] Batch [780]#011Speed: 947.302 samples/sec#011accuracy=0.860585\u001b[0m\n",
      "\u001b[31m[06/13/2019 14:32:43 INFO 139767644493632] Epoch[4] Batch [800]#011Speed: 947.510 samples/sec#011accuracy=0.860565\u001b[0m\n",
      "\u001b[31m[06/13/2019 14:32:46 INFO 139767644493632] Epoch[4] Batch [820]#011Speed: 947.627 samples/sec#011accuracy=0.860365\u001b[0m\n",
      "\u001b[31m[06/13/2019 14:32:48 INFO 139767644493632] Epoch[4] Batch [840]#011Speed: 947.659 samples/sec#011accuracy=0.860369\u001b[0m\n",
      "\u001b[31m[06/13/2019 14:32:51 INFO 139767644493632] Epoch[4] Batch [860]#011Speed: 947.615 samples/sec#011accuracy=0.860591\u001b[0m\n",
      "\u001b[31m[06/13/2019 14:32:54 INFO 139767644493632] Epoch[4] Batch [880]#011Speed: 947.536 samples/sec#011accuracy=0.860616\u001b[0m\n",
      "\u001b[31m[06/13/2019 14:32:56 INFO 139767644493632] Epoch[4] Batch [900]#011Speed: 947.987 samples/sec#011accuracy=0.860528\u001b[0m\n",
      "\u001b[31m[06/13/2019 14:32:59 INFO 139767644493632] Epoch[4] Batch [920]#011Speed: 947.778 samples/sec#011accuracy=0.860715\u001b[0m\n",
      "\u001b[31m[06/13/2019 14:33:02 INFO 139767644493632] Epoch[4] Batch [940]#011Speed: 947.999 samples/sec#011accuracy=0.860678\u001b[0m\n",
      "\u001b[31m[06/13/2019 14:33:05 INFO 139767644493632] Epoch[4] Batch [960]#011Speed: 948.104 samples/sec#011accuracy=0.860546\u001b[0m\n",
      "\u001b[31m[06/13/2019 14:33:07 INFO 139767644493632] Epoch[4] Batch [980]#011Speed: 948.188 samples/sec#011accuracy=0.860546\u001b[0m\n",
      "\u001b[31m[06/13/2019 14:33:10 INFO 139767644493632] Epoch[4] Batch [1000]#011Speed: 948.368 samples/sec#011accuracy=0.860639\u001b[0m\n",
      "\u001b[31m[06/13/2019 14:33:13 INFO 139767644493632] Epoch[4] Batch [1020]#011Speed: 948.278 samples/sec#011accuracy=0.860354\u001b[0m\n",
      "\u001b[31m[06/13/2019 14:33:15 INFO 139767644493632] Epoch[4] Batch [1040]#011Speed: 948.203 samples/sec#011accuracy=0.860343\u001b[0m\n",
      "\u001b[31m[06/13/2019 14:33:18 INFO 139767644493632] Epoch[4] Batch [1060]#011Speed: 948.167 samples/sec#011accuracy=0.860310\u001b[0m\n",
      "\u001b[31m[06/13/2019 14:33:21 INFO 139767644493632] Epoch[4] Batch [1080]#011Speed: 948.574 samples/sec#011accuracy=0.860170\u001b[0m\n",
      "\u001b[31m[06/13/2019 14:33:23 INFO 139767644493632] Epoch[4] Batch [1100]#011Speed: 948.586 samples/sec#011accuracy=0.860163\u001b[0m\n",
      "\u001b[31m[06/13/2019 14:33:26 INFO 139767644493632] Epoch[4] Batch [1120]#011Speed: 948.524 samples/sec#011accuracy=0.860469\u001b[0m\n",
      "\u001b[31m[06/13/2019 14:33:29 INFO 139767644493632] Epoch[4] Batch [1140]#011Speed: 948.550 samples/sec#011accuracy=0.860347\u001b[0m\n",
      "\u001b[31m[06/13/2019 14:33:31 INFO 139767644493632] Epoch[4] Batch [1160]#011Speed: 948.623 samples/sec#011accuracy=0.860156\u001b[0m\n",
      "\u001b[31m[06/13/2019 14:33:34 INFO 139767644493632] Epoch[4] Batch [1180]#011Speed: 948.666 samples/sec#011accuracy=0.859997\u001b[0m\n",
      "\u001b[31m[06/13/2019 14:33:37 INFO 139767644493632] Epoch[4] Batch [1200]#011Speed: 948.842 samples/sec#011accuracy=0.859915\u001b[0m\n",
      "\u001b[31m[06/13/2019 14:33:39 INFO 139767644493632] Epoch[4] Batch [1220]#011Speed: 949.102 samples/sec#011accuracy=0.860117\u001b[0m\n",
      "\u001b[31m[06/13/2019 14:33:42 INFO 139767644493632] Epoch[4] Batch [1240]#011Speed: 949.280 samples/sec#011accuracy=0.859891\u001b[0m\n",
      "\u001b[31m[06/13/2019 14:33:45 INFO 139767644493632] Epoch[4] Batch [1260]#011Speed: 949.537 samples/sec#011accuracy=0.860081\u001b[0m\n",
      "\u001b[31m[06/13/2019 14:33:47 INFO 139767644493632] Epoch[4] Batch [1280]#011Speed: 949.665 samples/sec#011accuracy=0.860314\u001b[0m\n",
      "\u001b[31m[06/13/2019 14:33:50 INFO 139767644493632] Epoch[4] Batch [1300]#011Speed: 949.815 samples/sec#011accuracy=0.860366\u001b[0m\n",
      "\u001b[31m[06/13/2019 14:33:53 INFO 139767644493632] Epoch[4] Batch [1320]#011Speed: 949.958 samples/sec#011accuracy=0.860445\u001b[0m\n",
      "\u001b[31m[06/13/2019 14:33:55 INFO 139767644493632] Epoch[4] Batch [1340]#011Speed: 950.132 samples/sec#011accuracy=0.860546\u001b[0m\n",
      "\u001b[31m[06/13/2019 14:33:58 INFO 139767644493632] Epoch[4] Batch [1360]#011Speed: 949.665 samples/sec#011accuracy=0.860603\u001b[0m\n",
      "\u001b[31m[06/13/2019 14:34:01 INFO 139767644493632] Epoch[4] Batch [1380]#011Speed: 949.954 samples/sec#011accuracy=0.860738\u001b[0m\n",
      "\u001b[31m[06/13/2019 14:34:04 INFO 139767644493632] Epoch[4] Batch [1400]#011Speed: 950.103 samples/sec#011accuracy=0.860998\u001b[0m\n",
      "\u001b[31m[06/13/2019 14:34:06 INFO 139767644493632] Epoch[4] Batch [1420]#011Speed: 950.310 samples/sec#011accuracy=0.860876\u001b[0m\n",
      "\u001b[31m[06/13/2019 14:34:09 INFO 139767644493632] Epoch[4] Batch [1440]#011Speed: 950.501 samples/sec#011accuracy=0.860996\u001b[0m\n",
      "\u001b[31m[06/13/2019 14:34:12 INFO 139767644493632] Epoch[4] Batch [1460]#011Speed: 950.607 samples/sec#011accuracy=0.860985\u001b[0m\n",
      "\u001b[31m[06/13/2019 14:34:14 INFO 139767644493632] Epoch[4] Batch [1480]#011Speed: 950.774 samples/sec#011accuracy=0.860968\u001b[0m\n",
      "\u001b[31m[06/13/2019 14:34:17 INFO 139767644493632] Epoch[4] Batch [1500]#011Speed: 950.927 samples/sec#011accuracy=0.860843\u001b[0m\n",
      "\u001b[31m[06/13/2019 14:34:19 INFO 139767644493632] Epoch[4] Train-accuracy=0.860894\u001b[0m\n",
      "\u001b[31m[06/13/2019 14:34:19 INFO 139767644493632] Epoch[4] Time cost=204.023\u001b[0m\n",
      "\u001b[31m[06/13/2019 14:34:53 INFO 139767644493632] Epoch[4] Validation-accuracy=0.863359\u001b[0m\n",
      "\u001b[31m[06/13/2019 14:34:53 INFO 139767644493632] Storing the best model with validation accuracy: 0.863359\u001b[0m\n",
      "\u001b[31m[06/13/2019 14:34:53 INFO 139767644493632] Saved checkpoint to \"/opt/ml/model/image-classification-0005.params\"\u001b[0m\n",
      "\n",
      "2019-06-13 14:35:13 Uploading - Uploading generated training model\n",
      "2019-06-13 14:35:13 Completed - Training job completed\n",
      "Billable seconds: 1318\n"
     ]
    }
   ],
   "source": [
    "estimator.fit({\n",
    "    'train': s3_input_train,\n",
    "    'validation': s3_input_validation\n",
    "}, job_name=job_name)"
   ]
  },
  {
   "cell_type": "markdown",
   "metadata": {},
   "source": [
    "# Creating a tuning job"
   ]
  },
  {
   "cell_type": "markdown",
   "metadata": {},
   "source": [
    "## Defining tuning configuration"
   ]
  },
  {
   "cell_type": "code",
   "execution_count": 20,
   "metadata": {},
   "outputs": [],
   "source": [
    "hyperparameter_ranges = {\n",
    "    'learning_rate': ContinuousParameter(0.001, 1.0),\n",
    "    'mini_batch_size': IntegerParameter(64, 128),\n",
    "    'optimizer': CategoricalParameter(['sgd', 'adam'])\n",
    "}\n",
    "\n",
    "objective_metric_name = 'validation:accuracy'\n",
    "objective_type='Maximize'\n",
    "max_jobs=2\n",
    "max_parallel_jobs=2"
   ]
  },
  {
   "cell_type": "markdown",
   "metadata": {},
   "source": [
    "## Create a unique job name"
   ]
  },
  {
   "cell_type": "code",
   "execution_count": 15,
   "metadata": {},
   "outputs": [],
   "source": [
    "job_name_prefix = 'bcd-tuning'\n",
    "timestamp = time.strftime('-%Y-%m-%d-%H-%M-%S', time.gmtime())\n",
    "job_name = job_name_prefix + timestamp"
   ]
  },
  {
   "cell_type": "markdown",
   "metadata": {},
   "source": [
    "## Creating a hyperparameter tuner"
   ]
  },
  {
   "cell_type": "code",
   "execution_count": 21,
   "metadata": {},
   "outputs": [],
   "source": [
    "tuner = HyperparameterTuner(estimator=estimator, \n",
    "                            objective_metric_name=objective_metric_name, \n",
    "                            hyperparameter_ranges=hyperparameter_ranges,\n",
    "                            objective_type=objective_type, \n",
    "                            max_jobs=max_jobs, \n",
    "                            max_parallel_jobs=max_parallel_jobs)"
   ]
  },
  {
   "cell_type": "markdown",
   "metadata": {},
   "source": [
    "## Launch the tuning job"
   ]
  },
  {
   "cell_type": "code",
   "execution_count": null,
   "metadata": {},
   "outputs": [],
   "source": [
    "tuner.fit({\n",
    "    'train': s3_input_train,\n",
    "    'validation': s3_input_validation\n",
    "}, job_name=job_name)\n",
    "tuner.wait()"
   ]
  },
  {
   "cell_type": "markdown",
   "metadata": {},
   "source": [
    "# Deploying the best model found by the tuning job"
   ]
  },
  {
   "cell_type": "markdown",
   "metadata": {},
   "source": [
    "## Get the execution role and the hosting image URI for Image Classification"
   ]
  },
  {
   "cell_type": "code",
   "execution_count": 37,
   "metadata": {},
   "outputs": [],
   "source": [
    "role = get_execution_role()\n",
    "hosting_image = get_image_uri(boto3.Session().region_name, 'image-classification')"
   ]
  },
  {
   "cell_type": "markdown",
   "metadata": {},
   "source": [
    "## Configure hosting instances"
   ]
  },
  {
   "cell_type": "code",
   "execution_count": 38,
   "metadata": {},
   "outputs": [],
   "source": [
    "instance_count = 1\n",
    "instance_type = 'ml.m4.xlarge'"
   ]
  },
  {
   "cell_type": "markdown",
   "metadata": {},
   "source": [
    "## Create a unique model name"
   ]
  },
  {
   "cell_type": "code",
   "execution_count": 39,
   "metadata": {},
   "outputs": [],
   "source": [
    "model_name_prefix = 'bcd-image-classification-high-level'\n",
    "timestamp = time.strftime('-%Y-%m-%d-%H-%M-%S', time.gmtime())\n",
    "model_name = model_name_prefix + timestamp"
   ]
  },
  {
   "cell_type": "markdown",
   "metadata": {},
   "source": [
    "## Create a Model object"
   ]
  },
  {
   "cell_type": "code",
   "execution_count": 40,
   "metadata": {},
   "outputs": [],
   "source": [
    "model_artifacts_s3_path = 's3://nitinproject1/breast-cancer-detection/output/bcd-tuning-2020-05-07-22-13-15-002-48683d09/output/model.tar.gz'\n",
    "\n",
    "model = Model(\n",
    "    name=model_name,\n",
    "    model_data=model_artifacts_s3_path,\n",
    "    image=hosting_image,\n",
    "    role=role,\n",
    "    predictor_cls=lambda endpoint_name, sagemaker_session: RealTimePredictor(endpoint_name, sagemaker_session)\n",
    ")"
   ]
  },
  {
   "cell_type": "markdown",
   "metadata": {},
   "source": [
    "## Create a unique endpoint name"
   ]
  },
  {
   "cell_type": "code",
   "execution_count": 41,
   "metadata": {},
   "outputs": [],
   "source": [
    "endpoint_name_prefix = 'breast-cancer-detection-ep'\n",
    "timestamp = time.strftime('-%Y-%m-%d-%H-%M-%S', time.gmtime())\n",
    "endpoint_name = endpoint_name_prefix + timestamp"
   ]
  },
  {
   "cell_type": "markdown",
   "metadata": {},
   "source": [
    "## Create a model, an endpoint configuration and an endpoint"
   ]
  },
  {
   "cell_type": "code",
   "execution_count": 42,
   "metadata": {},
   "outputs": [
    {
     "name": "stdout",
     "output_type": "stream",
     "text": [
      "-----------------!"
     ]
    }
   ],
   "source": [
    "predictor = model.deploy(\n",
    "    endpoint_name=endpoint_name,\n",
    "    initial_instance_count=instance_count,\n",
    "    instance_type=instance_type\n",
    ")"
   ]
  },
  {
   "cell_type": "markdown",
   "metadata": {},
   "source": [
    "# Testing the deployed model"
   ]
  },
  {
   "cell_type": "code",
   "execution_count": 43,
   "metadata": {},
   "outputs": [],
   "source": [
    "def predict_breast_cancer(image_path):\n",
    "    with open(image_path, 'rb') as f:\n",
    "        payload = f.read()\n",
    "        payload = bytearray(payload)\n",
    "    response = predictor.predict(payload)\n",
    "    result = json.loads(response)\n",
    "    print('Probabilities for all classes: ', result)\n",
    "    predicted_class = np.argmax(result)\n",
    "    if predicted_class == 0:\n",
    "        print('Breast cancer not detected')\n",
    "    else:\n",
    "        print('Breast cancer detected')"
   ]
  },
  {
   "cell_type": "code",
   "execution_count": 44,
   "metadata": {},
   "outputs": [
    {
     "name": "stdout",
     "output_type": "stream",
     "text": [
      "Probabilities for all classes:  [0.7335057258605957, 0.2664942145347595]\n",
      "Breast cancer not detected\n"
     ]
    }
   ],
   "source": [
    "predict_breast_cancer('images/0/8975_idx5_x2851_y1201_class0.png')"
   ]
  },
  {
   "cell_type": "code",
   "execution_count": 45,
   "metadata": {},
   "outputs": [
    {
     "name": "stdout",
     "output_type": "stream",
     "text": [
      "Probabilities for all classes:  [0.25526249408721924, 0.7447375059127808]\n",
      "Breast cancer detected\n"
     ]
    }
   ],
   "source": [
    "predict_breast_cancer('images/1/10253_idx5_x551_y651_class1.png')"
   ]
  },
  {
   "cell_type": "code",
   "execution_count": 48,
   "metadata": {},
   "outputs": [
    {
     "name": "stdout",
     "output_type": "stream",
     "text": [
      "Probabilities for all classes:  [0.04449419304728508, 0.9555057883262634]\n",
      "Breast cancer detected\n",
      "Probabilities for all classes:  [0.04449419304728508, 0.9555057883262634]\n",
      "Breast cancer detected\n",
      "Probabilities for all classes:  [0.9847603440284729, 0.015239688567817211]\n",
      "Breast cancer not detected\n",
      "Probabilities for all classes:  [0.9931393265724182, 0.006860687397420406]\n",
      "Breast cancer not detected\n",
      "Probabilities for all classes:  [0.9712310433387756, 0.02876889891922474]\n",
      "Breast cancer not detected\n",
      "Probabilities for all classes:  [0.9872902035713196, 0.012709741480648518]\n",
      "Breast cancer not detected\n",
      "Probabilities for all classes:  [0.9855087399482727, 0.014491289854049683]\n",
      "Breast cancer not detected\n",
      "Probabilities for all classes:  [0.04571998491883278, 0.9542800188064575]\n",
      "Breast cancer detected\n"
     ]
    }
   ],
   "source": [
    "predict_breast_cancer('samples/fake_images-main.png')\n",
    "\n",
    "predict_breast_cancer('samples/fake_images-1.png')\n",
    "\n",
    "predict_breast_cancer('samples/fake_images-2.png')\n",
    "\n",
    "predict_breast_cancer('samples/fake_images-3.png')\n",
    "\n",
    "predict_breast_cancer('samples/fake_images-4.png')\n",
    "\n",
    "predict_breast_cancer('samples/fake_images-5.png')\n",
    "\n",
    "predict_breast_cancer('samples/fake_images-6.png')\n",
    "\n",
    "predict_breast_cancer('samples/real_images.png')"
   ]
  },
  {
   "cell_type": "markdown",
   "metadata": {},
   "source": [
    "# Deleting endpoint"
   ]
  },
  {
   "cell_type": "code",
   "execution_count": 12,
   "metadata": {},
   "outputs": [],
   "source": [
    "sagemaker.Session().delete_endpoint(predictor.endpoint)"
   ]
  },
  {
   "cell_type": "code",
   "execution_count": null,
   "metadata": {},
   "outputs": [],
   "source": []
  }
 ],
 "metadata": {
  "kernelspec": {
   "display_name": "conda_mxnet_p36",
   "language": "python",
   "name": "conda_mxnet_p36"
  },
  "language_info": {
   "codemirror_mode": {
    "name": "ipython",
    "version": 3
   },
   "file_extension": ".py",
   "mimetype": "text/x-python",
   "name": "python",
   "nbconvert_exporter": "python",
   "pygments_lexer": "ipython3",
   "version": "3.6.5"
  }
 },
 "nbformat": 4,
 "nbformat_minor": 2
}
